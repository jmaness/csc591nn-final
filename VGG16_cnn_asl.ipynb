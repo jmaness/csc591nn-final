{
 "cells": [
  {
   "cell_type": "markdown",
   "metadata": {},
   "source": [
    "# ASL Classification with a CNN"
   ]
  },
  {
   "cell_type": "code",
   "execution_count": 1,
   "metadata": {
    "pycharm": {
     "is_executing": false
    },
    "scrolled": true
   },
   "outputs": [
    {
     "name": "stderr",
     "output_type": "stream",
     "text": [
      "Using TensorFlow backend.\n"
     ]
    }
   ],
   "source": [
    "import matplotlib.pyplot as plt\n",
    "import tensorflow as tf\n",
    "import tensorflow_docs as tfdocs\n",
    "import tensorflow_docs.plots\n",
    "\n",
    "from keras import backend as K\n",
    "from tensorflow.keras.preprocessing.image import ImageDataGenerator\n",
    "\n",
    "\n",
    "# Get reproducible results\n",
    "random_state = 46\n",
    "tf.random.set_seed(random_state)"
   ]
  },
  {
   "cell_type": "markdown",
   "metadata": {
    "pycharm": {
     "is_executing": false
    }
   },
   "source": [
    "## GPU configuration\n",
    "If you have a GPU, enable experimental memory growth."
   ]
  },
  {
   "cell_type": "code",
   "execution_count": 2,
   "metadata": {
    "pycharm": {
     "is_executing": false
    },
    "scrolled": true
   },
   "outputs": [
    {
     "name": "stdout",
     "output_type": "stream",
     "text": [
      "1 Physical GPUs, 1 Logical GPUs\n"
     ]
    }
   ],
   "source": [
    "gpus = tf.config.experimental.list_physical_devices('GPU')\n",
    "if gpus:\n",
    "    try:\n",
    "        for gpu in gpus:\n",
    "            tf.config.experimental.set_memory_growth(gpu, True)\n",
    "            logical_gpus = tf.config.experimental.list_logical_devices('GPU')\n",
    "            print(len(gpus), \"Physical GPUs,\", len(logical_gpus), \"Logical GPUs\")\n",
    "    except RuntimeError as e:\n",
    "        print(e)"
   ]
  },
  {
   "cell_type": "markdown",
   "metadata": {},
   "source": [
    "## File Paths"
   ]
  },
  {
   "cell_type": "code",
   "execution_count": 3,
   "metadata": {
    "pycharm": {
     "is_executing": false
    },
    "scrolled": true
   },
   "outputs": [],
   "source": [
    "train_dir = \"asl_alphabet_train/asl_alphabet_train\"\n",
    "test_dir = \"asl_alphabet_test/asl_alphabet_test\""
   ]
  },
  {
   "cell_type": "markdown",
   "metadata": {
    "pycharm": {
     "name": "#%% md\n"
    }
   },
   "source": [
    "## Train model"
   ]
  },
  {
   "cell_type": "code",
   "execution_count": 4,
   "metadata": {
    "pycharm": {
     "is_executing": false,
     "name": "#%%\n"
    },
    "scrolled": false
   },
   "outputs": [],
   "source": [
    "def fit_model(model, train_generator, val_generator):\n",
    "    model.compile(optimizer='adam',\n",
    "                  loss=tf.keras.losses.SparseCategoricalCrossentropy(from_logits=True),\n",
    "                  metrics=['accuracy'])\n",
    "    \n",
    "    model.summary()\n",
    "    \n",
    "    print('Fitting model...')\n",
    "    history = model.fit(train_generator, \n",
    "        steps_per_epoch=100, \n",
    "        epochs=30, \n",
    "        verbose=1, \n",
    "        validation_data=val_generator, \n",
    "        validation_steps=50,\n",
    "        use_multiprocessing=True,\n",
    "        workers=8,\n",
    "        callbacks=[\n",
    "                keras.callbacks.ModelCheckpoint(filepath='model_bestAccuracy.h5', monitor='accuracy', save_best_only = True),\n",
    "                keras.callbacks.EarlyStopping(monitor='val_accuracy', min_delta = 0.01, patience = 2, restore_best_weights = True)\n",
    "            ])\n",
    "    \n",
    "    print('Evaluating model...')\n",
    "    plt.plot(history.history['accuracy'], label='accuracy')\n",
    "    plt.plot(history.history['val_accuracy'], label = 'val_accuracy')\n",
    "    plt.xlabel('Epoch')\n",
    "    plt.ylabel('Accuracy')\n",
    "    plt.ylim([0, 1])\n",
    "    plt.legend(loc='lower right')\n",
    "    \n",
    "    del model\n",
    "    K.clear_session()\n",
    "\n",
    "\n",
    "def fit_with_base_model(base_model, trainable = False):\n",
    "    print(\"Defining train data generator...\")\n",
    "    datagen = ImageDataGenerator(\n",
    "        rescale=1./255,\n",
    "        featurewise_center=False,\n",
    "        featurewise_std_normalization=False,\n",
    "        rotation_range=30,\n",
    "        validation_split=0.30)\n",
    "    \n",
    "    train_generator = datagen.flow_from_directory(\n",
    "        train_dir,\n",
    "        subset='training',\n",
    "        target_size=(200, 200),\n",
    "        batch_size=128,\n",
    "        class_mode='sparse'\n",
    "    )\n",
    "    \n",
    "    val_generator = datagen.flow_from_directory(\n",
    "        train_dir,\n",
    "        subset='validation',\n",
    "        target_size=(200, 200),\n",
    "        batch_size=128,\n",
    "        class_mode='sparse'\n",
    "    )\n",
    "    \n",
    "    base_model.trainable = trainable\n",
    "    fit_model(tf.keras.models.Sequential([\n",
    "        base_model,\n",
    "        tf.keras.layers.GlobalAveragePooling2D(),\n",
    "        tf.keras.layers.Dense(128, activation='relu'),\n",
    "        tf.keras.layers.Dropout(0.1),\n",
    "        tf.keras.layers.Dense(29)\n",
    "    ]), train_generator, val_generator)\n",
    "    "
   ]
  },
  {
   "cell_type": "markdown",
   "metadata": {
    "pycharm": {
     "name": "#%% md\n"
    }
   },
   "source": [
    "# Base models"
   ]
  },
  {
   "cell_type": "markdown",
   "metadata": {},
   "source": [
    "## VGG16\n",
    "This model uses VGG16 as a base model initialized with the ImageNet weights.  "
   ]
  },
  {
   "cell_type": "code",
   "execution_count": 16,
   "metadata": {
    "pycharm": {
     "name": "#%%\n"
    }
   },
   "outputs": [
    {
     "name": "stdout",
     "output_type": "stream",
     "text": [
      "Found 60900 images belonging to 29 classes.\n",
      "Found 26100 images belonging to 29 classes.\n",
      "Model: \"sequential_1\"\n",
      "_________________________________________________________________\n",
      "Layer (type)                 Output Shape              Param #   \n",
      "=================================================================\n",
      "vgg16 (Model)                (None, None, None, 512)   14714688  \n",
      "_________________________________________________________________\n",
      "global_average_pooling2d_1 ( (None, 512)               0         \n",
      "_________________________________________________________________\n",
      "dense_2 (Dense)              (None, 128)               65664     \n",
      "_________________________________________________________________\n",
      "dropout_1 (Dropout)          (None, 128)               0         \n",
      "_________________________________________________________________\n",
      "dense_3 (Dense)              (None, 29)                3741      \n",
      "=================================================================\n",
      "Total params: 14,784,093\n",
      "Trainable params: 69,405\n",
      "Non-trainable params: 14,714,688\n",
      "_________________________________________________________________\n",
      "Fitting model...\n",
      "WARNING:tensorflow:sample_weight modes were coerced from\n",
      "  ...\n",
      "    to  \n",
      "  ['...']\n",
      "WARNING:tensorflow:sample_weight modes were coerced from\n",
      "  ...\n",
      "    to  \n",
      "  ['...']\n",
      "Train for 100 steps, validate for 50 steps\n",
      "Epoch 1/20\n",
      "WARNING:tensorflow:multiprocessing can interact badly with TensorFlow, causing nondeterministic deadlocks. For high performance data pipelines tf.data is recommended.\n",
      "100/100 [==============================] - 67s 674ms/step - loss: 3.0866 - accuracy: 0.2210 - val_loss: 2.7822 - val_accuracy: 0.4278\n",
      "Epoch 2/20\n",
      "WARNING:tensorflow:multiprocessing can interact badly with TensorFlow, causing nondeterministic deadlocks. For high performance data pipelines tf.data is recommended.\n",
      "100/100 [==============================] - 68s 678ms/step - loss: 2.2937 - accuracy: 0.4912 - val_loss: 2.0783 - val_accuracy: 0.5477\n",
      "Epoch 3/20\n",
      "WARNING:tensorflow:multiprocessing can interact badly with TensorFlow, causing nondeterministic deadlocks. For high performance data pipelines tf.data is recommended.\n",
      "100/100 [==============================] - 67s 675ms/step - loss: 1.6350 - accuracy: 0.6361 - val_loss: 1.5889 - val_accuracy: 0.6558\n",
      "Epoch 4/20\n",
      "WARNING:tensorflow:multiprocessing can interact badly with TensorFlow, causing nondeterministic deadlocks. For high performance data pipelines tf.data is recommended.\n",
      "100/100 [==============================] - 68s 677ms/step - loss: 1.2310 - accuracy: 0.7174 - val_loss: 1.2817 - val_accuracy: 0.7202\n",
      "Epoch 5/20\n",
      "WARNING:tensorflow:multiprocessing can interact badly with TensorFlow, causing nondeterministic deadlocks. For high performance data pipelines tf.data is recommended.\n",
      "100/100 [==============================] - 68s 680ms/step - loss: 0.9941 - accuracy: 0.7663 - val_loss: 1.1224 - val_accuracy: 0.7153\n",
      "Epoch 6/20\n",
      "WARNING:tensorflow:multiprocessing can interact badly with TensorFlow, causing nondeterministic deadlocks. For high performance data pipelines tf.data is recommended.\n",
      "100/100 [==============================] - 68s 684ms/step - loss: 0.8181 - accuracy: 0.8067 - val_loss: 0.9743 - val_accuracy: 0.7594\n",
      "Epoch 7/20\n",
      "WARNING:tensorflow:multiprocessing can interact badly with TensorFlow, causing nondeterministic deadlocks. For high performance data pipelines tf.data is recommended.\n",
      "100/100 [==============================] - 68s 683ms/step - loss: 0.6969 - accuracy: 0.8335 - val_loss: 0.8720 - val_accuracy: 0.7766\n",
      "Epoch 8/20\n",
      "WARNING:tensorflow:multiprocessing can interact badly with TensorFlow, causing nondeterministic deadlocks. For high performance data pipelines tf.data is recommended.\n",
      "100/100 [==============================] - 68s 679ms/step - loss: 0.6054 - accuracy: 0.8501 - val_loss: 0.8207 - val_accuracy: 0.7884\n",
      "Epoch 9/20\n",
      "WARNING:tensorflow:multiprocessing can interact badly with TensorFlow, causing nondeterministic deadlocks. For high performance data pipelines tf.data is recommended.\n",
      "100/100 [==============================] - 69s 688ms/step - loss: 0.5445 - accuracy: 0.8641 - val_loss: 0.7684 - val_accuracy: 0.7961\n",
      "Epoch 10/20\n",
      "WARNING:tensorflow:multiprocessing can interact badly with TensorFlow, causing nondeterministic deadlocks. For high performance data pipelines tf.data is recommended.\n",
      "100/100 [==============================] - 69s 685ms/step - loss: 0.4785 - accuracy: 0.8857 - val_loss: 0.7436 - val_accuracy: 0.7844\n",
      "Epoch 11/20\n",
      "WARNING:tensorflow:multiprocessing can interact badly with TensorFlow, causing nondeterministic deadlocks. For high performance data pipelines tf.data is recommended.\n",
      "100/100 [==============================] - 68s 684ms/step - loss: 0.4407 - accuracy: 0.8928 - val_loss: 0.6730 - val_accuracy: 0.8062\n",
      "Epoch 12/20\n",
      "WARNING:tensorflow:multiprocessing can interact badly with TensorFlow, causing nondeterministic deadlocks. For high performance data pipelines tf.data is recommended.\n",
      "100/100 [==============================] - 68s 684ms/step - loss: 0.3923 - accuracy: 0.9032 - val_loss: 0.6509 - val_accuracy: 0.8108\n",
      "Epoch 13/20\n",
      "WARNING:tensorflow:multiprocessing can interact badly with TensorFlow, causing nondeterministic deadlocks. For high performance data pipelines tf.data is recommended.\n",
      "100/100 [==============================] - 69s 685ms/step - loss: 0.3706 - accuracy: 0.9075 - val_loss: 0.6306 - val_accuracy: 0.8134\n",
      "Epoch 14/20\n",
      "WARNING:tensorflow:multiprocessing can interact badly with TensorFlow, causing nondeterministic deadlocks. For high performance data pipelines tf.data is recommended.\n",
      "100/100 [==============================] - 69s 693ms/step - loss: 0.3387 - accuracy: 0.9150 - val_loss: 0.6233 - val_accuracy: 0.8184\n",
      "Epoch 15/20\n",
      "WARNING:tensorflow:multiprocessing can interact badly with TensorFlow, causing nondeterministic deadlocks. For high performance data pipelines tf.data is recommended.\n",
      "100/100 [==============================] - 68s 681ms/step - loss: 0.3218 - accuracy: 0.9197 - val_loss: 0.5981 - val_accuracy: 0.8202\n",
      "Epoch 16/20\n",
      "WARNING:tensorflow:multiprocessing can interact badly with TensorFlow, causing nondeterministic deadlocks. For high performance data pipelines tf.data is recommended.\n",
      "100/100 [==============================] - 70s 701ms/step - loss: 0.3045 - accuracy: 0.9198 - val_loss: 0.5646 - val_accuracy: 0.8269\n",
      "Epoch 17/20\n",
      "WARNING:tensorflow:multiprocessing can interact badly with TensorFlow, causing nondeterministic deadlocks. For high performance data pipelines tf.data is recommended.\n",
      "100/100 [==============================] - 70s 703ms/step - loss: 0.2842 - accuracy: 0.9290 - val_loss: 0.5548 - val_accuracy: 0.8325\n",
      "Epoch 18/20\n",
      "WARNING:tensorflow:multiprocessing can interact badly with TensorFlow, causing nondeterministic deadlocks. For high performance data pipelines tf.data is recommended.\n",
      "100/100 [==============================] - 70s 697ms/step - loss: 0.2610 - accuracy: 0.9340 - val_loss: 0.5286 - val_accuracy: 0.8438\n",
      "Epoch 19/20\n",
      "WARNING:tensorflow:multiprocessing can interact badly with TensorFlow, causing nondeterministic deadlocks. For high performance data pipelines tf.data is recommended.\n",
      "100/100 [==============================] - 69s 693ms/step - loss: 0.2466 - accuracy: 0.9381 - val_loss: 0.5393 - val_accuracy: 0.8384\n",
      "Epoch 20/20\n",
      "WARNING:tensorflow:multiprocessing can interact badly with TensorFlow, causing nondeterministic deadlocks. For high performance data pipelines tf.data is recommended.\n",
      "100/100 [==============================] - 70s 703ms/step - loss: 0.2415 - accuracy: 0.9357 - val_loss: 0.5110 - val_accuracy: 0.8464\n",
      "Evaluating model...\n"
     ]
    },
    {
     "data": {
      "image/png": "[encoded data removed]",
      "text/plain": [
       "<Figure size 432x288 with 1 Axes>"
      ]
     },
     "metadata": {
      "needs_background": "light"
     },
     "output_type": "display_data"
    }
   ],
   "source": [
    "datagen = ImageDataGenerator(\n",
    "    rescale=1./255,\n",
    "    featurewise_center=False,\n",
    "    featurewise_std_normalization=False,\n",
    "    samplewise_center=True,\n",
    "    samplewise_std_normalization=True,\n",
    "    brightness_range = (0.5,1.5),\n",
    "    rotation_range=20,\n",
    "    width_shift_range = 0.1,\n",
    "    height_shift_range = 0.1,\n",
    "    validation_split=0.30)\n",
    "\n",
    "train_generator = datagen.flow_from_directory(\n",
    "    train_dir,\n",
    "    subset='training',\n",
    "    target_size=(224, 224),\n",
    "    batch_size=128,\n",
    "    class_mode='sparse'\n",
    ")\n",
    "\n",
    "val_generator = datagen.flow_from_directory(\n",
    "    train_dir,\n",
    "    subset='validation',\n",
    "    target_size=(224, 224),\n",
    "    batch_size=128,\n",
    "    class_mode='sparse'\n",
    ")\n",
    "\n",
    "base_model = tf.keras.applications.VGG16(include_top=False, weights='imagenet')\n",
    "base_model.trainable = False\n",
    "\n",
    "fit_model(tf.keras.models.Sequential([\n",
    "    base_model,\n",
    "    tf.keras.layers.GlobalAveragePooling2D(),\n",
    "    tf.keras.layers.Dense(128, activation='relu'),\n",
    "    tf.keras.layers.Dropout(0.2),\n",
    "    tf.keras.layers.Dense(29)\n",
    "]), train_generator, val_generator)"
   ]
  },
  {
   "cell_type": "markdown",
   "metadata": {
    "pycharm": {
     "name": "#%% md\n"
    }
   },
   "source": [
    "### In case, a kernel is interrupted, to free up GPU memory, run:"
   ]
  },
  {
   "cell_type": "code",
   "execution_count": null,
   "metadata": {},
   "outputs": [],
   "source": [
    "try: \n",
    "    del model\n",
    "except NameError: model = None\n",
    "\n",
    "K.clear_session()"
   ]
  }
 ],
 "metadata": {
  "kernelspec": {
   "display_name": "Python 3",
   "language": "python",
   "name": "python3"
  },
  "language_info": {
   "codemirror_mode": {
    "name": "ipython",
    "version": 3
   },
   "file_extension": ".py",
   "mimetype": "text/x-python",
   "name": "python",
   "nbconvert_exporter": "python",
   "pygments_lexer": "ipython3",
   "version": "3.7.4"
  },
  "pycharm": {
   "stem_cell": {
    "cell_type": "raw",
    "metadata": {
     "collapsed": false
    },
    "source": []
   }
  }
 },
 "nbformat": 4,
 "nbformat_minor": 4
}
