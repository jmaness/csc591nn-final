{
 "cells": [
  {
   "cell_type": "markdown",
   "metadata": {},
   "source": [
    "# ASL Classification with a CNN"
   ]
  },
  {
   "cell_type": "code",
   "execution_count": 1,
   "metadata": {
    "pycharm": {
     "is_executing": false
    },
    "scrolled": true
   },
   "outputs": [
    {
     "name": "stderr",
     "output_type": "stream",
     "text": [
      "Using TensorFlow backend.\n"
     ]
    }
   ],
   "source": [
    "import matplotlib.pyplot as plt\n",
    "import tensorflow as tf\n",
    "import tensorflow_docs as tfdocs\n",
    "import tensorflow_docs.plots\n",
    "import keras\n",
    "\n",
    "from keras import backend as K\n",
    "from tensorflow.keras.preprocessing.image import ImageDataGenerator\n",
    "\n",
    "\n",
    "# Get reproducible results\n",
    "random_state = 46\n",
    "tf.random.set_seed(random_state)"
   ]
  },
  {
   "cell_type": "markdown",
   "metadata": {
    "pycharm": {
     "is_executing": false
    }
   },
   "source": [
    "## GPU configuration\n",
    "If you have a GPU, enable experimental memory growth."
   ]
  },
  {
   "cell_type": "code",
   "execution_count": 2,
   "metadata": {
    "pycharm": {
     "is_executing": false
    },
    "scrolled": true
   },
   "outputs": [],
   "source": [
    "gpus = tf.config.experimental.list_physical_devices('GPU')\n",
    "if gpus:\n",
    "    try:\n",
    "        for gpu in gpus:\n",
    "            tf.config.experimental.set_memory_growth(gpu, True)\n",
    "            logical_gpus = tf.config.experimental.list_logical_devices('GPU')\n",
    "            print(len(gpus), \"Physical GPUs,\", len(logical_gpus), \"Logical GPUs\")\n",
    "    except RuntimeError as e:\n",
    "        print(e)"
   ]
  },
  {
   "cell_type": "markdown",
   "metadata": {},
   "source": [
    "## File Paths"
   ]
  },
  {
   "cell_type": "code",
   "execution_count": 3,
   "metadata": {
    "pycharm": {
     "is_executing": false
    },
    "scrolled": true
   },
   "outputs": [],
   "source": [
    "train_dir = \"asl_alphabet_train/asl_alphabet_train\"\n",
    "test_dir = \"asl_alphabet_test/asl_alphabet_test\""
   ]
  },
  {
   "cell_type": "markdown",
   "metadata": {
    "pycharm": {
     "name": "#%% md\n"
    }
   },
   "source": [
    "## Train model"
   ]
  },
  {
   "cell_type": "code",
   "execution_count": 4,
   "metadata": {
    "pycharm": {
     "is_executing": false,
     "name": "#%%\n"
    },
    "scrolled": false
   },
   "outputs": [],
   "source": [
    "def fit_model(model, train_generator, val_generator):\n",
    "    model.compile(optimizer='adam',\n",
    "                  loss=tf.keras.losses.SparseCategoricalCrossentropy(from_logits=True),\n",
    "                  metrics=['accuracy'])\n",
    "    \n",
    "    model.summary()\n",
    "    \n",
    "    print('Fitting model...')\n",
    "    history = model.fit(train_generator, \n",
    "        steps_per_epoch=100, \n",
    "        epochs=30, \n",
    "        verbose=1, \n",
    "        validation_data=val_generator, \n",
    "        validation_steps=50,\n",
    "        use_multiprocessing=False,\n",
    "        workers=8,\n",
    "        callbacks=[\n",
    "                keras.callbacks.ModelCheckpoint(filepath='model_bestAccuracy.h5', monitor='accuracy', save_best_only = True),\n",
    "                keras.callbacks.EarlyStopping(monitor='val_accuracy', min_delta = 0.01, patience = 2, restore_best_weights = True)\n",
    "            ])\n",
    "    \n",
    "    print('Evaluating model...')\n",
    "    plt.plot(history.history['accuracy'], label='accuracy')\n",
    "    plt.plot(history.history['val_accuracy'], label = 'val_accuracy')\n",
    "    plt.xlabel('Epoch')\n",
    "    plt.ylabel('Accuracy')\n",
    "    plt.ylim([0, 1])\n",
    "    plt.legend(loc='lower right')\n",
    "    \n",
    "    del model\n",
    "    K.clear_session()\n",
    "\n",
    "\n",
    "def fit_with_base_model(base_model, trainable = False):\n",
    "    print(\"Defining train data generator...\")\n",
    "    datagen = ImageDataGenerator(\n",
    "        rescale=1./255,\n",
    "        featurewise_center=False,\n",
    "        featurewise_std_normalization=False,\n",
    "        rotation_range=30,\n",
    "        validation_split=0.30)\n",
    "    \n",
    "    train_generator = datagen.flow_from_directory(\n",
    "        train_dir,\n",
    "        subset='training',\n",
    "        target_size=(200, 200),\n",
    "        batch_size=128,\n",
    "        class_mode='sparse'\n",
    "    )\n",
    "    \n",
    "    val_generator = datagen.flow_from_directory(\n",
    "        train_dir,\n",
    "        subset='validation',\n",
    "        target_size=(200, 200),\n",
    "        batch_size=128,\n",
    "        class_mode='sparse'\n",
    "    )\n",
    "    \n",
    "    base_model.trainable = trainable\n",
    "    fit_model(tf.keras.models.Sequential([\n",
    "        base_model,\n",
    "        tf.keras.layers.GlobalAveragePooling2D(),\n",
    "        tf.keras.layers.Dense(128, activation='relu'),\n",
    "        tf.keras.layers.Dropout(0.1),\n",
    "        tf.keras.layers.Dense(29)\n",
    "    ]), train_generator, val_generator)\n",
    "    "
   ]
  },
  {
   "cell_type": "markdown",
   "metadata": {
    "pycharm": {
     "name": "#%% md\n"
    }
   },
   "source": [
    "# Base models"
   ]
  },
  {
   "cell_type": "markdown",
   "metadata": {},
   "source": [
    "## VGG16\n",
    "This model uses VGG16 as a base model initialized with the ImageNet weights.  "
   ]
  },
  {
   "cell_type": "code",
   "execution_count": 5,
   "metadata": {
    "pycharm": {
     "name": "#%%\n"
    }
   },
   "outputs": [
    {
     "name": "stdout",
     "output_type": "stream",
     "text": [
      "Found 60900 images belonging to 29 classes.\n",
      "Found 26100 images belonging to 29 classes.\n",
      "Model: \"sequential\"\n",
      "_________________________________________________________________\n",
      "Layer (type)                 Output Shape              Param #   \n",
      "=================================================================\n",
      "vgg16 (Model)                (None, None, None, 512)   14714688  \n",
      "_________________________________________________________________\n",
      "global_average_pooling2d (Gl (None, 512)               0         \n",
      "_________________________________________________________________\n",
      "dense (Dense)                (None, 256)               131328    \n",
      "_________________________________________________________________\n",
      "dropout (Dropout)            (None, 256)               0         \n",
      "_________________________________________________________________\n",
      "dense_1 (Dense)              (None, 128)               32896     \n",
      "_________________________________________________________________\n",
      "dropout_1 (Dropout)          (None, 128)               0         \n",
      "_________________________________________________________________\n",
      "dense_2 (Dense)              (None, 29)                3741      \n",
      "=================================================================\n",
      "Total params: 14,882,653\n",
      "Trainable params: 167,965\n",
      "Non-trainable params: 14,714,688\n",
      "_________________________________________________________________\n",
      "Fitting model...\n",
      "WARNING:tensorflow:sample_weight modes were coerced from\n",
      "  ...\n",
      "    to  \n",
      "  ['...']\n",
      "WARNING:tensorflow:sample_weight modes were coerced from\n",
      "  ...\n",
      "    to  \n",
      "  ['...']\n",
      "Train for 100 steps, validate for 50 steps\n",
      "Epoch 1/30\n",
      "100/100 [==============================] - 3023s 30s/step - loss: 2.9724 - accuracy: 0.1791 - val_loss: 2.2532 - val_accuracy: 0.4595\n",
      "Epoch 2/30\n",
      "100/100 [==============================] - 3036s 30s/step - loss: 1.6479 - accuracy: 0.5016 - val_loss: 1.3464 - val_accuracy: 0.6230\n",
      "Epoch 3/30\n",
      "100/100 [==============================] - 3023s 30s/step - loss: 1.0122 - accuracy: 0.6822 - val_loss: 1.0142 - val_accuracy: 0.6953\n",
      "Epoch 4/30\n",
      "100/100 [==============================] - 3028s 30s/step - loss: 0.7330 - accuracy: 0.7691 - val_loss: 0.7993 - val_accuracy: 0.7603\n",
      "Epoch 5/30\n",
      "100/100 [==============================] - 3045s 30s/step - loss: 0.5694 - accuracy: 0.8262 - val_loss: 0.7209 - val_accuracy: 0.7750\n",
      "Epoch 6/30\n",
      "100/100 [==============================] - 3084s 31s/step - loss: 0.4833 - accuracy: 0.8482 - val_loss: 0.6572 - val_accuracy: 0.7939\n",
      "Epoch 7/30\n",
      "100/100 [==============================] - 3054s 31s/step - loss: 0.4038 - accuracy: 0.8729 - val_loss: 0.6384 - val_accuracy: 0.7992\n",
      "Epoch 8/30\n",
      "100/100 [==============================] - 3126s 31s/step - loss: 0.3451 - accuracy: 0.8905 - val_loss: 0.6218 - val_accuracy: 0.8027\n",
      "Evaluating model...\n"
     ]
    },
    {
     "data": {
      "image/png": "[encoded data removed]",
      "text/plain": [
       "<Figure size 432x288 with 1 Axes>"
      ]
     },
     "metadata": {
      "needs_background": "light"
     },
     "output_type": "display_data"
    }
   ],
   "source": [
    "datagen = ImageDataGenerator(\n",
    "    rescale=1./255,\n",
    "    featurewise_center=False,\n",
    "    featurewise_std_normalization=False,\n",
    "    samplewise_center=True,\n",
    "    samplewise_std_normalization=True,\n",
    "    brightness_range = (0.5,1.5),\n",
    "    rotation_range=20,\n",
    "    width_shift_range = 0.1,\n",
    "    height_shift_range = 0.1,\n",
    "    validation_split=0.30)\n",
    "\n",
    "train_generator = datagen.flow_from_directory(\n",
    "    train_dir,\n",
    "    subset='training',\n",
    "    target_size=(224, 224),\n",
    "    batch_size=128,\n",
    "    class_mode='sparse',\n",
    "    #color_mode='grayscale'\n",
    ")\n",
    "\n",
    "val_generator = datagen.flow_from_directory(\n",
    "    train_dir,\n",
    "    subset='validation',\n",
    "    target_size=(224, 224),\n",
    "    batch_size=128,\n",
    "    class_mode='sparse',\n",
    "    #color_mode='grayscale'\n",
    ")\n",
    "\n",
    "base_model = tf.keras.applications.VGG16(include_top=False, weights='imagenet')\n",
    "base_model.trainable = False\n",
    "\n",
    "fit_model(tf.keras.models.Sequential([\n",
    "    base_model,\n",
    "    tf.keras.layers.GlobalAveragePooling2D(),\n",
    "    tf.keras.layers.Dense(256, activation='relu'),\n",
    "    tf.keras.layers.Dropout(0.2),\n",
    "    tf.keras.layers.Dense(128, activation='relu'),\n",
    "    tf.keras.layers.Dropout(0.2),\n",
    "    tf.keras.layers.Dense(29)\n",
    "]), train_generator, val_generator)"
   ]
  },
  {
   "cell_type": "markdown",
   "metadata": {
    "pycharm": {
     "name": "#%% md\n"
    }
   },
   "source": [
    "### In case, a kernel is interrupted, to free up GPU memory, run:"
   ]
  },
  {
   "cell_type": "code",
   "execution_count": null,
   "metadata": {},
   "outputs": [],
   "source": [
    "try: \n",
    "    del model\n",
    "except NameError: model = None\n",
    "\n",
    "K.clear_session()"
   ]
  },
  {
   "cell_type": "code",
   "execution_count": null,
   "metadata": {},
   "outputs": [],
   "source": []
  }
 ],
 "metadata": {
  "kernelspec": {
   "display_name": "Python 3",
   "language": "python",
   "name": "python3"
  },
  "language_info": {
   "codemirror_mode": {
    "name": "ipython",
    "version": 3
   },
   "file_extension": ".py",
   "mimetype": "text/x-python",
   "name": "python",
   "nbconvert_exporter": "python",
   "pygments_lexer": "ipython3",
   "version": "3.7.6"
  },
  "pycharm": {
   "stem_cell": {
    "cell_type": "raw",
    "metadata": {
     "collapsed": false
    },
    "source": []
   }
  }
 },
 "nbformat": 4,
 "nbformat_minor": 4
}
