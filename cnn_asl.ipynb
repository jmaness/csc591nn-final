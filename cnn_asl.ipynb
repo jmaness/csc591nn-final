{
 "cells": [
  {
   "cell_type": "markdown",
   "metadata": {},
   "source": [
    "# ASL Classification with a CNN"
   ]
  },
  {
   "cell_type": "code",
   "execution_count": 1,
   "metadata": {
    "pycharm": {
     "is_executing": false
    },
    "scrolled": true
   },
   "outputs": [
    {
     "name": "stderr",
     "output_type": "stream",
     "text": [
      "Using TensorFlow backend.\n"
     ]
    }
   ],
   "source": [
    "import matplotlib.pyplot as plt\n",
    "import tensorflow as tf\n",
    "import tensorflow_docs as tfdocs\n",
    "import tensorflow_docs.plots\n",
    "\n",
    "from keras import backend as K\n",
    "from tensorflow.keras.preprocessing.image import ImageDataGenerator\n",
    "\n",
    "\n",
    "# Get reproducible results\n",
    "random_state = 46\n",
    "tf.random.set_seed(random_state)"
   ]
  },
  {
   "cell_type": "markdown",
   "metadata": {
    "pycharm": {
     "is_executing": false
    }
   },
   "source": [
    "## GPU configuration\n",
    "If you have a GPU, enable experimental memory growth."
   ]
  },
  {
   "cell_type": "code",
   "execution_count": 2,
   "metadata": {
    "pycharm": {
     "is_executing": false
    },
    "scrolled": true
   },
   "outputs": [
    {
     "name": "stdout",
     "output_type": "stream",
     "text": [
      "1 Physical GPUs, 1 Logical GPUs\n"
     ]
    }
   ],
   "source": [
    "gpus = tf.config.experimental.list_physical_devices('GPU')\n",
    "if gpus:\n",
    "    try:\n",
    "        for gpu in gpus:\n",
    "            tf.config.experimental.set_memory_growth(gpu, True)\n",
    "            logical_gpus = tf.config.experimental.list_logical_devices('GPU')\n",
    "            print(len(gpus), \"Physical GPUs,\", len(logical_gpus), \"Logical GPUs\")\n",
    "    except RuntimeError as e:\n",
    "        print(e)"
   ]
  },
  {
   "cell_type": "markdown",
   "metadata": {},
   "source": [
    "## File Paths"
   ]
  },
  {
   "cell_type": "code",
   "execution_count": 3,
   "metadata": {
    "pycharm": {
     "is_executing": false
    },
    "scrolled": true
   },
   "outputs": [],
   "source": [
    "train_dir = \"asl_alphabet_train/asl_alphabet_train\"\n",
    "test_dir = \"asl_alphabet_test/asl_alphabet_test\""
   ]
  },
  {
   "cell_type": "markdown",
   "metadata": {
    "pycharm": {
     "name": "#%% md\n"
    }
   },
   "source": [
    "## Train model"
   ]
  },
  {
   "cell_type": "code",
   "execution_count": 4,
   "metadata": {
    "pycharm": {
     "is_executing": false,
     "name": "#%%\n"
    },
    "scrolled": false
   },
   "outputs": [],
   "source": [
    "def fit_model(model):\n",
    "    \n",
    "    print(\"Defining train data generator...\")\n",
    "    datagen = ImageDataGenerator(\n",
    "        rescale=1./255,\n",
    "        featurewise_center=False,\n",
    "        featurewise_std_normalization=False,\n",
    "        rotation_range=30,\n",
    "        validation_split=0.30)\n",
    "    \n",
    "    train_generator = datagen.flow_from_directory(\n",
    "        train_dir,\n",
    "        subset='training',\n",
    "        target_size=(200, 200),\n",
    "        batch_size=128,\n",
    "        class_mode='sparse'\n",
    "    )\n",
    "    \n",
    "    val_generator = datagen.flow_from_directory(\n",
    "        train_dir,\n",
    "        subset='validation',\n",
    "        target_size=(200, 200),\n",
    "        batch_size=128,\n",
    "        class_mode='sparse'\n",
    "    )\n",
    "    \n",
    "    model.compile(optimizer='adam',\n",
    "                  loss=tf.keras.losses.SparseCategoricalCrossentropy(from_logits=True),\n",
    "                  metrics=['accuracy'])\n",
    "    \n",
    "    model.summary()\n",
    "    \n",
    "    print('Fitting model...')\n",
    "    history = model.fit(train_generator, \n",
    "        steps_per_epoch=100, \n",
    "        epochs=20, \n",
    "        verbose=1, \n",
    "        validation_data=val_generator, \n",
    "        validation_steps=50)\n",
    "    \n",
    "    print('Evaluating model...')\n",
    "    plt.plot(history.history['accuracy'], label='accuracy')\n",
    "    plt.plot(history.history['val_accuracy'], label = 'val_accuracy')\n",
    "    plt.xlabel('Epoch')\n",
    "    plt.ylabel('Accuracy')\n",
    "    plt.ylim([0, 1])\n",
    "    plt.legend(loc='lower right')\n",
    "    \n",
    "    del model\n",
    "    K.clear_session()\n",
    "    \n",
    "def fit_with_base_model(base_model, trainable = False):\n",
    "    base_model.trainable = trainable\n",
    "    fit_model(tf.keras.models.Sequential([\n",
    "        base_model,\n",
    "        tf.keras.layers.GlobalAveragePooling2D(),\n",
    "        tf.keras.layers.Dense(128, activation='relu'),\n",
    "        tf.keras.layers.Dropout(0.1),\n",
    "        tf.keras.layers.Dense(29)\n",
    "    ]))\n",
    "    "
   ]
  },
  {
   "cell_type": "markdown",
   "metadata": {
    "pycharm": {
     "name": "#%% md\n"
    }
   },
   "source": [
    "# Base models"
   ]
  },
  {
   "cell_type": "markdown",
   "metadata": {
    "pycharm": {
     "name": "#%% md\n"
    }
   },
   "source": [
    "## InceptionResNetV2\n",
    "This model uses InceptionV3 as a base model initialized with the ImageNet weights.  "
   ]
  },
  {
   "cell_type": "code",
   "execution_count": 5,
   "metadata": {
    "pycharm": {
     "name": "#%%\n"
    }
   },
   "outputs": [
    {
     "name": "stdout",
     "output_type": "stream",
     "text": [
      "Defining train data generator...\n",
      "Found 60900 images belonging to 29 classes.\n",
      "Found 26100 images belonging to 29 classes.\n",
      "Model: \"sequential\"\n",
      "_________________________________________________________________\n",
      "Layer (type)                 Output Shape              Param #   \n",
      "=================================================================\n",
      "inception_resnet_v2 (Model)  (None, None, None, 1536)  54336736  \n",
      "_________________________________________________________________\n",
      "global_average_pooling2d (Gl (None, 1536)              0         \n",
      "_________________________________________________________________\n",
      "dense (Dense)                (None, 128)               196736    \n",
      "_________________________________________________________________\n",
      "dropout (Dropout)            (None, 128)               0         \n",
      "_________________________________________________________________\n",
      "dense_1 (Dense)              (None, 29)                3741      \n",
      "=================================================================\n",
      "Total params: 54,537,213\n",
      "Trainable params: 200,477\n",
      "Non-trainable params: 54,336,736\n",
      "_________________________________________________________________\n",
      "Fitting model...\n",
      "WARNING:tensorflow:sample_weight modes were coerced from\n",
      "  ...\n",
      "    to  \n",
      "  ['...']\n",
      "WARNING:tensorflow:sample_weight modes were coerced from\n",
      "  ...\n",
      "    to  \n",
      "  ['...']\n",
      "Train for 100 steps, validate for 50 steps\n",
      "Epoch 1/20\n",
      "WARNING:tensorflow:multiprocessing can interact badly with TensorFlow, causing nondeterministic deadlocks. For high performance data pipelines tf.data is recommended.\n",
      "100/100 [==============================] - 64s 639ms/step - loss: 2.3764 - accuracy: 0.3896 - val_loss: 3.4439 - val_accuracy: 0.1728\n",
      "Epoch 2/20\n",
      "WARNING:tensorflow:multiprocessing can interact badly with TensorFlow, causing nondeterministic deadlocks. For high performance data pipelines tf.data is recommended.\n",
      "100/100 [==============================] - 56s 557ms/step - loss: 1.3995 - accuracy: 0.6348 - val_loss: 4.2704 - val_accuracy: 0.1842\n",
      "Epoch 3/20\n",
      "WARNING:tensorflow:multiprocessing can interact badly with TensorFlow, causing nondeterministic deadlocks. For high performance data pipelines tf.data is recommended.\n",
      "100/100 [==============================] - 58s 577ms/step - loss: 1.1028 - accuracy: 0.6986 - val_loss: 4.0807 - val_accuracy: 0.2350\n",
      "Epoch 4/20\n",
      "WARNING:tensorflow:multiprocessing can interact badly with TensorFlow, causing nondeterministic deadlocks. For high performance data pipelines tf.data is recommended.\n",
      "100/100 [==============================] - 56s 564ms/step - loss: 0.9389 - accuracy: 0.7459 - val_loss: 5.2825 - val_accuracy: 0.1798\n",
      "Epoch 5/20\n",
      "WARNING:tensorflow:multiprocessing can interact badly with TensorFlow, causing nondeterministic deadlocks. For high performance data pipelines tf.data is recommended.\n",
      "100/100 [==============================] - 58s 577ms/step - loss: 0.8418 - accuracy: 0.7648 - val_loss: 5.3227 - val_accuracy: 0.1956\n",
      "Epoch 6/20\n",
      "WARNING:tensorflow:multiprocessing can interact badly with TensorFlow, causing nondeterministic deadlocks. For high performance data pipelines tf.data is recommended.\n",
      "100/100 [==============================] - 57s 565ms/step - loss: 0.7717 - accuracy: 0.7836 - val_loss: 5.8768 - val_accuracy: 0.1816\n",
      "Epoch 7/20\n",
      "WARNING:tensorflow:multiprocessing can interact badly with TensorFlow, causing nondeterministic deadlocks. For high performance data pipelines tf.data is recommended.\n",
      "100/100 [==============================] - 56s 562ms/step - loss: 0.7048 - accuracy: 0.7993 - val_loss: 6.6157 - val_accuracy: 0.1609\n",
      "Epoch 8/20\n",
      "WARNING:tensorflow:multiprocessing can interact badly with TensorFlow, causing nondeterministic deadlocks. For high performance data pipelines tf.data is recommended.\n",
      "100/100 [==============================] - 57s 573ms/step - loss: 0.6681 - accuracy: 0.8083 - val_loss: 6.7516 - val_accuracy: 0.1555\n",
      "Epoch 9/20\n",
      "WARNING:tensorflow:multiprocessing can interact badly with TensorFlow, causing nondeterministic deadlocks. For high performance data pipelines tf.data is recommended.\n",
      "100/100 [==============================] - 57s 565ms/step - loss: 0.6197 - accuracy: 0.8196 - val_loss: 5.6948 - val_accuracy: 0.2148\n",
      "Epoch 10/20\n",
      "WARNING:tensorflow:multiprocessing can interact badly with TensorFlow, causing nondeterministic deadlocks. For high performance data pipelines tf.data is recommended.\n",
      "100/100 [==============================] - 57s 574ms/step - loss: 0.5973 - accuracy: 0.8277 - val_loss: 5.8959 - val_accuracy: 0.2084\n",
      "Epoch 11/20\n",
      "WARNING:tensorflow:multiprocessing can interact badly with TensorFlow, causing nondeterministic deadlocks. For high performance data pipelines tf.data is recommended.\n",
      "100/100 [==============================] - 57s 571ms/step - loss: 0.5678 - accuracy: 0.8388 - val_loss: 6.2834 - val_accuracy: 0.1819\n",
      "Epoch 12/20\n",
      "WARNING:tensorflow:multiprocessing can interact badly with TensorFlow, causing nondeterministic deadlocks. For high performance data pipelines tf.data is recommended.\n",
      "100/100 [==============================] - 57s 570ms/step - loss: 0.5640 - accuracy: 0.8357 - val_loss: 6.2980 - val_accuracy: 0.2147\n",
      "Epoch 13/20\n",
      "WARNING:tensorflow:multiprocessing can interact badly with TensorFlow, causing nondeterministic deadlocks. For high performance data pipelines tf.data is recommended.\n",
      "100/100 [==============================] - 58s 576ms/step - loss: 0.5262 - accuracy: 0.8492 - val_loss: 6.9095 - val_accuracy: 0.1989\n",
      "Epoch 14/20\n",
      "WARNING:tensorflow:multiprocessing can interact badly with TensorFlow, causing nondeterministic deadlocks. For high performance data pipelines tf.data is recommended.\n",
      "100/100 [==============================] - 58s 575ms/step - loss: 0.5128 - accuracy: 0.8483 - val_loss: 6.0001 - val_accuracy: 0.2231\n",
      "Epoch 15/20\n",
      "WARNING:tensorflow:multiprocessing can interact badly with TensorFlow, causing nondeterministic deadlocks. For high performance data pipelines tf.data is recommended.\n",
      "100/100 [==============================] - 59s 589ms/step - loss: 0.4867 - accuracy: 0.8582 - val_loss: 6.5621 - val_accuracy: 0.2138\n",
      "Epoch 16/20\n",
      "WARNING:tensorflow:multiprocessing can interact badly with TensorFlow, causing nondeterministic deadlocks. For high performance data pipelines tf.data is recommended.\n",
      "100/100 [==============================] - 58s 585ms/step - loss: 0.4850 - accuracy: 0.8580 - val_loss: 7.9541 - val_accuracy: 0.1752\n",
      "Epoch 17/20\n",
      "WARNING:tensorflow:multiprocessing can interact badly with TensorFlow, causing nondeterministic deadlocks. For high performance data pipelines tf.data is recommended.\n",
      "100/100 [==============================] - 58s 581ms/step - loss: 0.4731 - accuracy: 0.8564 - val_loss: 6.2484 - val_accuracy: 0.2133\n",
      "Epoch 18/20\n",
      "WARNING:tensorflow:multiprocessing can interact badly with TensorFlow, causing nondeterministic deadlocks. For high performance data pipelines tf.data is recommended.\n",
      "100/100 [==============================] - 58s 582ms/step - loss: 0.4398 - accuracy: 0.8731 - val_loss: 6.5187 - val_accuracy: 0.2228\n",
      "Epoch 19/20\n",
      "WARNING:tensorflow:multiprocessing can interact badly with TensorFlow, causing nondeterministic deadlocks. For high performance data pipelines tf.data is recommended.\n",
      "100/100 [==============================] - 58s 578ms/step - loss: 0.4484 - accuracy: 0.8654 - val_loss: 6.9674 - val_accuracy: 0.2031\n",
      "Epoch 20/20\n",
      "WARNING:tensorflow:multiprocessing can interact badly with TensorFlow, causing nondeterministic deadlocks. For high performance data pipelines tf.data is recommended.\n",
      "100/100 [==============================] - 58s 579ms/step - loss: 0.4495 - accuracy: 0.8612 - val_loss: 7.6458 - val_accuracy: 0.1937\n",
      "Evaluating model...\n"
     ]
    },
    {
     "data": {
      "image/png": "[encoded data removed]",
      "text/plain": [
       "<Figure size 432x288 with 1 Axes>"
      ]
     },
     "metadata": {
      "needs_background": "light"
     },
     "output_type": "display_data"
    }
   ],
   "source": [
    "fit_with_base_model(tf.keras.applications.InceptionResNetV2(include_top=False, weights='imagenet'))"
   ]
  },
  {
   "cell_type": "markdown",
   "metadata": {},
   "source": [
    "## InceptionV3\n",
    "This model uses InceptionV3 as a base model initialized with the ImageNet weights.  "
   ]
  },
  {
   "cell_type": "code",
   "execution_count": 5,
   "metadata": {
    "pycharm": {
     "name": "#%%\n"
    }
   },
   "outputs": [
    {
     "name": "stdout",
     "output_type": "stream",
     "text": [
      "Defining train data generator...\n",
      "Found 60900 images belonging to 29 classes.\n",
      "Found 26100 images belonging to 29 classes.\n",
      "Model: \"sequential\"\n",
      "_________________________________________________________________\n",
      "Layer (type)                 Output Shape              Param #   \n",
      "=================================================================\n",
      "inception_v3 (Model)         (None, None, None, 2048)  21802784  \n",
      "_________________________________________________________________\n",
      "global_average_pooling2d (Gl (None, 2048)              0         \n",
      "_________________________________________________________________\n",
      "dense (Dense)                (None, 128)               262272    \n",
      "_________________________________________________________________\n",
      "dropout (Dropout)            (None, 128)               0         \n",
      "_________________________________________________________________\n",
      "dense_1 (Dense)              (None, 29)                3741      \n",
      "=================================================================\n",
      "Total params: 22,068,797\n",
      "Trainable params: 266,013\n",
      "Non-trainable params: 21,802,784\n",
      "_________________________________________________________________\n",
      "Fitting model...\n",
      "WARNING:tensorflow:sample_weight modes were coerced from\n",
      "  ...\n",
      "    to  \n",
      "  ['...']\n",
      "WARNING:tensorflow:sample_weight modes were coerced from\n",
      "  ...\n",
      "    to  \n",
      "  ['...']\n",
      "Train for 100 steps, validate for 50 steps\n",
      "Epoch 1/20\n",
      "WARNING:tensorflow:multiprocessing can interact badly with TensorFlow, causing nondeterministic deadlocks. For high performance data pipelines tf.data is recommended.\n",
      "100/100 [==============================] - 49s 490ms/step - loss: 2.3827 - accuracy: 0.3621 - val_loss: 3.9010 - val_accuracy: 0.1166\n",
      "Epoch 2/20\n",
      "WARNING:tensorflow:multiprocessing can interact badly with TensorFlow, causing nondeterministic deadlocks. For high performance data pipelines tf.data is recommended.\n",
      "100/100 [==============================] - 47s 473ms/step - loss: 1.4126 - accuracy: 0.6091 - val_loss: 4.4265 - val_accuracy: 0.1481\n",
      "Epoch 3/20\n",
      "WARNING:tensorflow:multiprocessing can interact badly with TensorFlow, causing nondeterministic deadlocks. For high performance data pipelines tf.data is recommended.\n",
      "100/100 [==============================] - 47s 466ms/step - loss: 1.1110 - accuracy: 0.6880 - val_loss: 3.9466 - val_accuracy: 0.1756\n",
      "Epoch 4/20\n",
      "WARNING:tensorflow:multiprocessing can interact badly with TensorFlow, causing nondeterministic deadlocks. For high performance data pipelines tf.data is recommended.\n",
      "100/100 [==============================] - 47s 474ms/step - loss: 0.9486 - accuracy: 0.7244 - val_loss: 4.9318 - val_accuracy: 0.1523\n",
      "Epoch 5/20\n",
      "WARNING:tensorflow:multiprocessing can interact badly with TensorFlow, causing nondeterministic deadlocks. For high performance data pipelines tf.data is recommended.\n",
      "100/100 [==============================] - 47s 469ms/step - loss: 0.8656 - accuracy: 0.7460 - val_loss: 4.4837 - val_accuracy: 0.1681\n",
      "Epoch 6/20\n",
      "WARNING:tensorflow:multiprocessing can interact badly with TensorFlow, causing nondeterministic deadlocks. For high performance data pipelines tf.data is recommended.\n",
      "100/100 [==============================] - 48s 483ms/step - loss: 0.8009 - accuracy: 0.7652 - val_loss: 5.1618 - val_accuracy: 0.1559\n",
      "Epoch 7/20\n",
      "WARNING:tensorflow:multiprocessing can interact badly with TensorFlow, causing nondeterministic deadlocks. For high performance data pipelines tf.data is recommended.\n",
      "100/100 [==============================] - 48s 477ms/step - loss: 0.7410 - accuracy: 0.7775 - val_loss: 4.9859 - val_accuracy: 0.1766\n",
      "Epoch 8/20\n",
      "WARNING:tensorflow:multiprocessing can interact badly with TensorFlow, causing nondeterministic deadlocks. For high performance data pipelines tf.data is recommended.\n",
      "100/100 [==============================] - 47s 472ms/step - loss: 0.7150 - accuracy: 0.7821 - val_loss: 5.1031 - val_accuracy: 0.1700\n",
      "Epoch 9/20\n",
      "WARNING:tensorflow:multiprocessing can interact badly with TensorFlow, causing nondeterministic deadlocks. For high performance data pipelines tf.data is recommended.\n",
      "100/100 [==============================] - 48s 479ms/step - loss: 0.6805 - accuracy: 0.7941 - val_loss: 4.9228 - val_accuracy: 0.1864\n",
      "Epoch 10/20\n",
      "WARNING:tensorflow:multiprocessing can interact badly with TensorFlow, causing nondeterministic deadlocks. For high performance data pipelines tf.data is recommended.\n",
      "100/100 [==============================] - 48s 479ms/step - loss: 0.6490 - accuracy: 0.8041 - val_loss: 5.2133 - val_accuracy: 0.1795\n",
      "Epoch 11/20\n",
      "WARNING:tensorflow:multiprocessing can interact badly with TensorFlow, causing nondeterministic deadlocks. For high performance data pipelines tf.data is recommended.\n",
      "100/100 [==============================] - 49s 486ms/step - loss: 0.6157 - accuracy: 0.8184 - val_loss: 4.9933 - val_accuracy: 0.1828\n",
      "Epoch 12/20\n",
      "WARNING:tensorflow:multiprocessing can interact badly with TensorFlow, causing nondeterministic deadlocks. For high performance data pipelines tf.data is recommended.\n",
      "100/100 [==============================] - 49s 489ms/step - loss: 0.5989 - accuracy: 0.8197 - val_loss: 5.0877 - val_accuracy: 0.1758\n",
      "Epoch 13/20\n",
      "WARNING:tensorflow:multiprocessing can interact badly with TensorFlow, causing nondeterministic deadlocks. For high performance data pipelines tf.data is recommended.\n",
      "100/100 [==============================] - 48s 482ms/step - loss: 0.5627 - accuracy: 0.8265 - val_loss: 5.4052 - val_accuracy: 0.1830\n",
      "Epoch 14/20\n",
      "WARNING:tensorflow:multiprocessing can interact badly with TensorFlow, causing nondeterministic deadlocks. For high performance data pipelines tf.data is recommended.\n",
      "100/100 [==============================] - 48s 482ms/step - loss: 0.5837 - accuracy: 0.8216 - val_loss: 6.1231 - val_accuracy: 0.1605\n",
      "Epoch 15/20\n",
      "WARNING:tensorflow:multiprocessing can interact badly with TensorFlow, causing nondeterministic deadlocks. For high performance data pipelines tf.data is recommended.\n",
      "100/100 [==============================] - 49s 492ms/step - loss: 0.5592 - accuracy: 0.8271 - val_loss: 5.8771 - val_accuracy: 0.1708\n",
      "Epoch 16/20\n",
      "WARNING:tensorflow:multiprocessing can interact badly with TensorFlow, causing nondeterministic deadlocks. For high performance data pipelines tf.data is recommended.\n",
      "100/100 [==============================] - 49s 485ms/step - loss: 0.5326 - accuracy: 0.8338 - val_loss: 4.9732 - val_accuracy: 0.2023\n",
      "Epoch 17/20\n",
      "WARNING:tensorflow:multiprocessing can interact badly with TensorFlow, causing nondeterministic deadlocks. For high performance data pipelines tf.data is recommended.\n",
      "100/100 [==============================] - 49s 488ms/step - loss: 0.5160 - accuracy: 0.8418 - val_loss: 5.4295 - val_accuracy: 0.1897\n",
      "Epoch 18/20\n",
      "WARNING:tensorflow:multiprocessing can interact badly with TensorFlow, causing nondeterministic deadlocks. For high performance data pipelines tf.data is recommended.\n",
      "100/100 [==============================] - 49s 493ms/step - loss: 0.5069 - accuracy: 0.8469 - val_loss: 5.7030 - val_accuracy: 0.1791\n",
      "Epoch 19/20\n",
      "WARNING:tensorflow:multiprocessing can interact badly with TensorFlow, causing nondeterministic deadlocks. For high performance data pipelines tf.data is recommended.\n",
      "100/100 [==============================] - 49s 492ms/step - loss: 0.5074 - accuracy: 0.8426 - val_loss: 5.4840 - val_accuracy: 0.1711\n",
      "Epoch 20/20\n",
      "WARNING:tensorflow:multiprocessing can interact badly with TensorFlow, causing nondeterministic deadlocks. For high performance data pipelines tf.data is recommended.\n",
      "100/100 [==============================] - 50s 502ms/step - loss: 0.4906 - accuracy: 0.8476 - val_loss: 6.0802 - val_accuracy: 0.1603\n",
      "Evaluating model...\n"
     ]
    },
    {
     "data": {
      "image/png": "[encoded data removed]",
      "text/plain": [
       "<Figure size 432x288 with 1 Axes>"
      ]
     },
     "metadata": {
      "needs_background": "light"
     },
     "output_type": "display_data"
    }
   ],
   "source": [
    "fit_with_base_model(tf.keras.applications.InceptionV3(include_top=False, weights='imagenet'))\n"
   ]
  },
  {
   "cell_type": "markdown",
   "metadata": {},
   "source": [
    "## MobileNet\n",
    "This model uses MobileNet as a base model initialized with the ImageNet weights.  "
   ]
  },
  {
   "cell_type": "code",
   "execution_count": 6,
   "metadata": {
    "pycharm": {
     "name": "#%%\n"
    }
   },
   "outputs": [
    {
     "name": "stderr",
     "output_type": "stream",
     "text": [
      "/home/jeremy/.local/lib/python3.7/site-packages/keras_applications/mobilenet.py:207: UserWarning: `input_shape` is undefined or non-square, or `rows` is not in [128, 160, 192, 224]. Weights for input shape (224, 224) will be loaded as the default.\n",
      "  warnings.warn('`input_shape` is undefined or non-square, '\n"
     ]
    },
    {
     "name": "stdout",
     "output_type": "stream",
     "text": [
      "Defining train data generator...\n",
      "Found 60900 images belonging to 29 classes.\n",
      "Found 26100 images belonging to 29 classes.\n",
      "Model: \"sequential\"\n",
      "_________________________________________________________________\n",
      "Layer (type)                 Output Shape              Param #   \n",
      "=================================================================\n",
      "mobilenet_1.00_224 (Model)   (None, None, None, 1024)  3228864   \n",
      "_________________________________________________________________\n",
      "global_average_pooling2d (Gl (None, 1024)              0         \n",
      "_________________________________________________________________\n",
      "dense (Dense)                (None, 128)               131200    \n",
      "_________________________________________________________________\n",
      "dropout (Dropout)            (None, 128)               0         \n",
      "_________________________________________________________________\n",
      "dense_1 (Dense)              (None, 29)                3741      \n",
      "=================================================================\n",
      "Total params: 3,363,805\n",
      "Trainable params: 134,941\n",
      "Non-trainable params: 3,228,864\n",
      "_________________________________________________________________\n",
      "Fitting model...\n",
      "WARNING:tensorflow:sample_weight modes were coerced from\n",
      "  ...\n",
      "    to  \n",
      "  ['...']\n",
      "WARNING:tensorflow:sample_weight modes were coerced from\n",
      "  ...\n",
      "    to  \n",
      "  ['...']\n",
      "Train for 100 steps, validate for 50 steps\n",
      "Epoch 1/20\n",
      "WARNING:tensorflow:multiprocessing can interact badly with TensorFlow, causing nondeterministic deadlocks. For high performance data pipelines tf.data is recommended.\n",
      "100/100 [==============================] - 47s 470ms/step - loss: 1.6273 - accuracy: 0.5556 - val_loss: 2.3168 - val_accuracy: 0.3466\n",
      "Epoch 2/20\n",
      "WARNING:tensorflow:multiprocessing can interact badly with TensorFlow, causing nondeterministic deadlocks. For high performance data pipelines tf.data is recommended.\n",
      "100/100 [==============================] - 46s 463ms/step - loss: 0.5430 - accuracy: 0.8492 - val_loss: 2.1260 - val_accuracy: 0.4052\n",
      "Epoch 3/20\n",
      "WARNING:tensorflow:multiprocessing can interact badly with TensorFlow, causing nondeterministic deadlocks. For high performance data pipelines tf.data is recommended.\n",
      "100/100 [==============================] - 46s 462ms/step - loss: 0.3571 - accuracy: 0.9002 - val_loss: 2.1479 - val_accuracy: 0.3938\n",
      "Epoch 4/20\n",
      "WARNING:tensorflow:multiprocessing can interact badly with TensorFlow, causing nondeterministic deadlocks. For high performance data pipelines tf.data is recommended.\n",
      "100/100 [==============================] - 46s 463ms/step - loss: 0.2855 - accuracy: 0.9180 - val_loss: 2.2037 - val_accuracy: 0.3870\n",
      "Epoch 5/20\n",
      "WARNING:tensorflow:multiprocessing can interact badly with TensorFlow, causing nondeterministic deadlocks. For high performance data pipelines tf.data is recommended.\n",
      "100/100 [==============================] - 47s 466ms/step - loss: 0.2348 - accuracy: 0.9309 - val_loss: 2.2594 - val_accuracy: 0.3961\n",
      "Epoch 6/20\n",
      "WARNING:tensorflow:multiprocessing can interact badly with TensorFlow, causing nondeterministic deadlocks. For high performance data pipelines tf.data is recommended.\n",
      "100/100 [==============================] - 47s 469ms/step - loss: 0.1855 - accuracy: 0.9444 - val_loss: 2.3317 - val_accuracy: 0.3898\n",
      "Epoch 7/20\n",
      "WARNING:tensorflow:multiprocessing can interact badly with TensorFlow, causing nondeterministic deadlocks. For high performance data pipelines tf.data is recommended.\n",
      "100/100 [==============================] - 47s 467ms/step - loss: 0.1757 - accuracy: 0.9470 - val_loss: 2.6568 - val_accuracy: 0.3664\n",
      "Epoch 8/20\n",
      "WARNING:tensorflow:multiprocessing can interact badly with TensorFlow, causing nondeterministic deadlocks. For high performance data pipelines tf.data is recommended.\n",
      "100/100 [==============================] - 47s 472ms/step - loss: 0.1549 - accuracy: 0.9530 - val_loss: 2.6236 - val_accuracy: 0.3759\n",
      "Epoch 9/20\n",
      "WARNING:tensorflow:multiprocessing can interact badly with TensorFlow, causing nondeterministic deadlocks. For high performance data pipelines tf.data is recommended.\n",
      "100/100 [==============================] - 48s 482ms/step - loss: 0.1303 - accuracy: 0.9626 - val_loss: 2.4116 - val_accuracy: 0.4128\n",
      "Epoch 10/20\n",
      "WARNING:tensorflow:multiprocessing can interact badly with TensorFlow, causing nondeterministic deadlocks. For high performance data pipelines tf.data is recommended.\n",
      "100/100 [==============================] - 48s 478ms/step - loss: 0.1275 - accuracy: 0.9616 - val_loss: 2.8696 - val_accuracy: 0.3638\n",
      "Epoch 11/20\n",
      "WARNING:tensorflow:multiprocessing can interact badly with TensorFlow, causing nondeterministic deadlocks. For high performance data pipelines tf.data is recommended.\n",
      "100/100 [==============================] - 47s 472ms/step - loss: 0.1163 - accuracy: 0.9655 - val_loss: 2.5531 - val_accuracy: 0.3975\n",
      "Epoch 12/20\n",
      "WARNING:tensorflow:multiprocessing can interact badly with TensorFlow, causing nondeterministic deadlocks. For high performance data pipelines tf.data is recommended.\n",
      "100/100 [==============================] - 47s 474ms/step - loss: 0.1062 - accuracy: 0.9682 - val_loss: 2.8999 - val_accuracy: 0.3680\n",
      "Epoch 13/20\n",
      "WARNING:tensorflow:multiprocessing can interact badly with TensorFlow, causing nondeterministic deadlocks. For high performance data pipelines tf.data is recommended.\n",
      "100/100 [==============================] - 48s 476ms/step - loss: 0.1003 - accuracy: 0.9695 - val_loss: 3.0362 - val_accuracy: 0.3644\n",
      "Epoch 14/20\n",
      "WARNING:tensorflow:multiprocessing can interact badly with TensorFlow, causing nondeterministic deadlocks. For high performance data pipelines tf.data is recommended.\n",
      "100/100 [==============================] - 48s 475ms/step - loss: 0.0924 - accuracy: 0.9709 - val_loss: 2.8639 - val_accuracy: 0.3909\n",
      "Epoch 15/20\n",
      "WARNING:tensorflow:multiprocessing can interact badly with TensorFlow, causing nondeterministic deadlocks. For high performance data pipelines tf.data is recommended.\n",
      "100/100 [==============================] - 48s 480ms/step - loss: 0.0945 - accuracy: 0.9702 - val_loss: 2.9066 - val_accuracy: 0.3853\n",
      "Epoch 16/20\n",
      "WARNING:tensorflow:multiprocessing can interact badly with TensorFlow, causing nondeterministic deadlocks. For high performance data pipelines tf.data is recommended.\n",
      "100/100 [==============================] - 48s 484ms/step - loss: 0.0868 - accuracy: 0.9720 - val_loss: 3.2891 - val_accuracy: 0.3448\n",
      "Epoch 17/20\n",
      "WARNING:tensorflow:multiprocessing can interact badly with TensorFlow, causing nondeterministic deadlocks. For high performance data pipelines tf.data is recommended.\n",
      "100/100 [==============================] - 48s 478ms/step - loss: 0.0839 - accuracy: 0.9729 - val_loss: 4.0093 - val_accuracy: 0.2839\n",
      "Epoch 18/20\n",
      "WARNING:tensorflow:multiprocessing can interact badly with TensorFlow, causing nondeterministic deadlocks. For high performance data pipelines tf.data is recommended.\n",
      "100/100 [==============================] - 49s 487ms/step - loss: 0.0803 - accuracy: 0.9743 - val_loss: 3.1900 - val_accuracy: 0.3491\n",
      "Epoch 19/20\n",
      "WARNING:tensorflow:multiprocessing can interact badly with TensorFlow, causing nondeterministic deadlocks. For high performance data pipelines tf.data is recommended.\n",
      "100/100 [==============================] - 49s 485ms/step - loss: 0.0776 - accuracy: 0.9759 - val_loss: 3.4497 - val_accuracy: 0.3464\n",
      "Epoch 20/20\n",
      "WARNING:tensorflow:multiprocessing can interact badly with TensorFlow, causing nondeterministic deadlocks. For high performance data pipelines tf.data is recommended.\n",
      "100/100 [==============================] - 49s 492ms/step - loss: 0.0749 - accuracy: 0.9770 - val_loss: 3.4464 - val_accuracy: 0.3677\n",
      "Evaluating model...\n"
     ]
    },
    {
     "data": {
      "image/png": "[encoded data removed]",
      "text/plain": [
       "<Figure size 432x288 with 1 Axes>"
      ]
     },
     "metadata": {
      "needs_background": "light"
     },
     "output_type": "display_data"
    }
   ],
   "source": [
    "fit_with_base_model(tf.keras.applications.MobileNet(include_top=False, weights='imagenet'))\n"
   ]
  },
  {
   "cell_type": "markdown",
   "metadata": {},
   "source": [
    "## MobileNetV2\n",
    "This model uses MobileNetV2 as a base model initialized with the ImageNet weights.  "
   ]
  },
  {
   "cell_type": "code",
   "execution_count": 7,
   "metadata": {
    "pycharm": {
     "name": "#%%\n"
    }
   },
   "outputs": [
    {
     "name": "stderr",
     "output_type": "stream",
     "text": [
      "/home/jeremy/.local/lib/python3.7/site-packages/keras_applications/mobilenet_v2.py:294: UserWarning: `input_shape` is undefined or non-square, or `rows` is not in [96, 128, 160, 192, 224]. Weights for input shape (224, 224) will be loaded as the default.\n",
      "  warnings.warn('`input_shape` is undefined or non-square, '\n"
     ]
    },
    {
     "name": "stdout",
     "output_type": "stream",
     "text": [
      "Defining train data generator...\n",
      "Found 60900 images belonging to 29 classes.\n",
      "Found 26100 images belonging to 29 classes.\n",
      "Model: \"sequential\"\n",
      "_________________________________________________________________\n",
      "Layer (type)                 Output Shape              Param #   \n",
      "=================================================================\n",
      "mobilenetv2_1.00_224 (Model) (None, None, None, 1280)  2257984   \n",
      "_________________________________________________________________\n",
      "global_average_pooling2d (Gl (None, 1280)              0         \n",
      "_________________________________________________________________\n",
      "dense (Dense)                (None, 128)               163968    \n",
      "_________________________________________________________________\n",
      "dropout (Dropout)            (None, 128)               0         \n",
      "_________________________________________________________________\n",
      "dense_1 (Dense)              (None, 29)                3741      \n",
      "=================================================================\n",
      "Total params: 2,425,693\n",
      "Trainable params: 167,709\n",
      "Non-trainable params: 2,257,984\n",
      "_________________________________________________________________\n",
      "Fitting model...\n",
      "WARNING:tensorflow:sample_weight modes were coerced from\n",
      "  ...\n",
      "    to  \n",
      "  ['...']\n",
      "WARNING:tensorflow:sample_weight modes were coerced from\n",
      "  ...\n",
      "    to  \n",
      "  ['...']\n",
      "Train for 100 steps, validate for 50 steps\n",
      "Epoch 1/20\n",
      "WARNING:tensorflow:multiprocessing can interact badly with TensorFlow, causing nondeterministic deadlocks. For high performance data pipelines tf.data is recommended.\n",
      "100/100 [==============================] - 50s 495ms/step - loss: 1.8644 - accuracy: 0.4858 - val_loss: 3.6103 - val_accuracy: 0.1700\n",
      "Epoch 2/20\n",
      "WARNING:tensorflow:multiprocessing can interact badly with TensorFlow, causing nondeterministic deadlocks. For high performance data pipelines tf.data is recommended.\n",
      "100/100 [==============================] - 50s 495ms/step - loss: 0.7929 - accuracy: 0.7712 - val_loss: 4.0118 - val_accuracy: 0.1813\n",
      "Epoch 3/20\n",
      "WARNING:tensorflow:multiprocessing can interact badly with TensorFlow, causing nondeterministic deadlocks. For high performance data pipelines tf.data is recommended.\n",
      "100/100 [==============================] - 50s 499ms/step - loss: 0.5816 - accuracy: 0.8236 - val_loss: 4.1633 - val_accuracy: 0.2005\n",
      "Epoch 4/20\n",
      "WARNING:tensorflow:multiprocessing can interact badly with TensorFlow, causing nondeterministic deadlocks. For high performance data pipelines tf.data is recommended.\n",
      "100/100 [==============================] - 50s 502ms/step - loss: 0.4726 - accuracy: 0.8573 - val_loss: 4.5058 - val_accuracy: 0.1880\n",
      "Epoch 5/20\n",
      "WARNING:tensorflow:multiprocessing can interact badly with TensorFlow, causing nondeterministic deadlocks. For high performance data pipelines tf.data is recommended.\n",
      "100/100 [==============================] - 50s 505ms/step - loss: 0.4242 - accuracy: 0.8722 - val_loss: 4.4717 - val_accuracy: 0.1917\n",
      "Epoch 6/20\n",
      "WARNING:tensorflow:multiprocessing can interact badly with TensorFlow, causing nondeterministic deadlocks. For high performance data pipelines tf.data is recommended.\n",
      "100/100 [==============================] - 49s 490ms/step - loss: 0.3779 - accuracy: 0.8844 - val_loss: 5.1974 - val_accuracy: 0.1698\n",
      "Epoch 7/20\n",
      "WARNING:tensorflow:multiprocessing can interact badly with TensorFlow, causing nondeterministic deadlocks. For high performance data pipelines tf.data is recommended.\n",
      "100/100 [==============================] - 50s 502ms/step - loss: 0.3408 - accuracy: 0.8963 - val_loss: 4.7634 - val_accuracy: 0.2058\n",
      "Epoch 8/20\n",
      "WARNING:tensorflow:multiprocessing can interact badly with TensorFlow, causing nondeterministic deadlocks. For high performance data pipelines tf.data is recommended.\n",
      "100/100 [==============================] - 50s 501ms/step - loss: 0.3109 - accuracy: 0.9033 - val_loss: 4.5007 - val_accuracy: 0.2283\n",
      "Epoch 9/20\n",
      "WARNING:tensorflow:multiprocessing can interact badly with TensorFlow, causing nondeterministic deadlocks. For high performance data pipelines tf.data is recommended.\n",
      "100/100 [==============================] - 50s 498ms/step - loss: 0.3032 - accuracy: 0.9042 - val_loss: 4.5738 - val_accuracy: 0.2297\n",
      "Epoch 10/20\n",
      "WARNING:tensorflow:multiprocessing can interact badly with TensorFlow, causing nondeterministic deadlocks. For high performance data pipelines tf.data is recommended.\n",
      "100/100 [==============================] - 50s 505ms/step - loss: 0.2806 - accuracy: 0.9113 - val_loss: 4.8798 - val_accuracy: 0.2059\n",
      "Epoch 11/20\n",
      "WARNING:tensorflow:multiprocessing can interact badly with TensorFlow, causing nondeterministic deadlocks. For high performance data pipelines tf.data is recommended.\n",
      "100/100 [==============================] - 50s 502ms/step - loss: 0.2649 - accuracy: 0.9164 - val_loss: 5.0262 - val_accuracy: 0.2020\n",
      "Epoch 12/20\n",
      "WARNING:tensorflow:multiprocessing can interact badly with TensorFlow, causing nondeterministic deadlocks. For high performance data pipelines tf.data is recommended.\n",
      "100/100 [==============================] - 52s 518ms/step - loss: 0.2608 - accuracy: 0.9188 - val_loss: 4.7448 - val_accuracy: 0.2183\n",
      "Epoch 13/20\n",
      "WARNING:tensorflow:multiprocessing can interact badly with TensorFlow, causing nondeterministic deadlocks. For high performance data pipelines tf.data is recommended.\n",
      "100/100 [==============================] - 61s 610ms/step - loss: 0.2507 - accuracy: 0.9206 - val_loss: 4.8881 - val_accuracy: 0.2217\n",
      "Epoch 14/20\n",
      "WARNING:tensorflow:multiprocessing can interact badly with TensorFlow, causing nondeterministic deadlocks. For high performance data pipelines tf.data is recommended.\n",
      "100/100 [==============================] - 61s 614ms/step - loss: 0.2349 - accuracy: 0.9259 - val_loss: 4.9203 - val_accuracy: 0.2200\n",
      "Epoch 15/20\n",
      "WARNING:tensorflow:multiprocessing can interact badly with TensorFlow, causing nondeterministic deadlocks. For high performance data pipelines tf.data is recommended.\n",
      "100/100 [==============================] - 57s 574ms/step - loss: 0.2336 - accuracy: 0.9248 - val_loss: 4.8305 - val_accuracy: 0.2302\n",
      "Epoch 16/20\n",
      "WARNING:tensorflow:multiprocessing can interact badly with TensorFlow, causing nondeterministic deadlocks. For high performance data pipelines tf.data is recommended.\n",
      "100/100 [==============================] - 60s 600ms/step - loss: 0.2133 - accuracy: 0.9314 - val_loss: 4.6406 - val_accuracy: 0.2480\n",
      "Epoch 17/20\n",
      "WARNING:tensorflow:multiprocessing can interact badly with TensorFlow, causing nondeterministic deadlocks. For high performance data pipelines tf.data is recommended.\n",
      "100/100 [==============================] - 68s 679ms/step - loss: 0.2211 - accuracy: 0.9312 - val_loss: 4.8148 - val_accuracy: 0.2377\n",
      "Epoch 18/20\n",
      "WARNING:tensorflow:multiprocessing can interact badly with TensorFlow, causing nondeterministic deadlocks. For high performance data pipelines tf.data is recommended.\n",
      "100/100 [==============================] - 60s 600ms/step - loss: 0.2073 - accuracy: 0.9351 - val_loss: 4.6374 - val_accuracy: 0.2419\n",
      "Epoch 19/20\n",
      "WARNING:tensorflow:multiprocessing can interact badly with TensorFlow, causing nondeterministic deadlocks. For high performance data pipelines tf.data is recommended.\n",
      "100/100 [==============================] - 97s 972ms/step - loss: 0.2029 - accuracy: 0.9345 - val_loss: 4.6601 - val_accuracy: 0.2531\n",
      "Epoch 20/20\n",
      "WARNING:tensorflow:multiprocessing can interact badly with TensorFlow, causing nondeterministic deadlocks. For high performance data pipelines tf.data is recommended.\n",
      "100/100 [==============================] - 96s 962ms/step - loss: 0.2137 - accuracy: 0.9312 - val_loss: 5.6586 - val_accuracy: 0.2091\n",
      "Evaluating model...\n"
     ]
    },
    {
     "data": {
      "image/png": "[encoded data removed]",
      "text/plain": [
       "<Figure size 432x288 with 1 Axes>"
      ]
     },
     "metadata": {
      "needs_background": "light"
     },
     "output_type": "display_data"
    }
   ],
   "source": [
    "fit_with_base_model(tf.keras.applications.MobileNetV2(include_top=False, weights='imagenet'))"
   ]
  },
  {
   "cell_type": "markdown",
   "metadata": {},
   "source": [
    "## ResNet50\n",
    "This model uses ResNet50 as a base model initialized with the ImageNet weights.  "
   ]
  },
  {
   "cell_type": "code",
   "execution_count": 5,
   "metadata": {
    "pycharm": {
     "name": "#%%\n"
    }
   },
   "outputs": [
    {
     "name": "stdout",
     "output_type": "stream",
     "text": [
      "Defining train data generator...\n",
      "Found 60900 images belonging to 29 classes.\n",
      "Found 26100 images belonging to 29 classes.\n",
      "Model: \"sequential\"\n",
      "_________________________________________________________________\n",
      "Layer (type)                 Output Shape              Param #   \n",
      "=================================================================\n",
      "resnet50 (Model)             (None, None, None, 2048)  23587712  \n",
      "_________________________________________________________________\n",
      "global_average_pooling2d (Gl (None, 2048)              0         \n",
      "_________________________________________________________________\n",
      "dense (Dense)                (None, 128)               262272    \n",
      "_________________________________________________________________\n",
      "dropout (Dropout)            (None, 128)               0         \n",
      "_________________________________________________________________\n",
      "dense_1 (Dense)              (None, 29)                3741      \n",
      "=================================================================\n",
      "Total params: 23,853,725\n",
      "Trainable params: 266,013\n",
      "Non-trainable params: 23,587,712\n",
      "_________________________________________________________________\n",
      "Fitting model...\n",
      "WARNING:tensorflow:sample_weight modes were coerced from\n",
      "  ...\n",
      "    to  \n",
      "  ['...']\n",
      "WARNING:tensorflow:sample_weight modes were coerced from\n",
      "  ...\n",
      "    to  \n",
      "  ['...']\n",
      "Train for 100 steps, validate for 50 steps\n",
      "Epoch 1/20\n",
      "100/100 [==============================] - 102s 1s/step - loss: 1.7776 - accuracy: 0.5195 - val_loss: 3.8237 - val_accuracy: 0.0355\n",
      "Epoch 2/20\n",
      "100/100 [==============================] - 104s 1s/step - loss: 0.7320 - accuracy: 0.7971 - val_loss: 3.9008 - val_accuracy: 0.0267\n",
      "Epoch 3/20\n",
      "100/100 [==============================] - 101s 1s/step - loss: 0.5017 - accuracy: 0.8575 - val_loss: 4.0872 - val_accuracy: 0.0350\n",
      "Epoch 4/20\n",
      "100/100 [==============================] - 99s 991ms/step - loss: 0.3778 - accuracy: 0.8921 - val_loss: 4.2974 - val_accuracy: 0.0350\n",
      "Epoch 5/20\n",
      "100/100 [==============================] - 100s 1s/step - loss: 0.3270 - accuracy: 0.9053 - val_loss: 4.5109 - val_accuracy: 0.0309\n",
      "Epoch 6/20\n",
      "100/100 [==============================] - 101s 1s/step - loss: 0.2847 - accuracy: 0.9168 - val_loss: 5.0503 - val_accuracy: 0.0353\n",
      "Epoch 7/20\n",
      "100/100 [==============================] - 100s 999ms/step - loss: 0.2401 - accuracy: 0.9290 - val_loss: 5.1506 - val_accuracy: 0.0350\n",
      "Epoch 8/20\n",
      "100/100 [==============================] - 101s 1s/step - loss: 0.2131 - accuracy: 0.9389 - val_loss: 5.4836 - val_accuracy: 0.0350\n",
      "Epoch 9/20\n",
      "100/100 [==============================] - 101s 1s/step - loss: 0.1850 - accuracy: 0.9454 - val_loss: 5.5323 - val_accuracy: 0.0309\n",
      "Epoch 10/20\n",
      "100/100 [==============================] - 101s 1s/step - loss: 0.1757 - accuracy: 0.9490 - val_loss: 5.3266 - val_accuracy: 0.0350\n",
      "Epoch 11/20\n",
      "100/100 [==============================] - 99s 992ms/step - loss: 0.1746 - accuracy: 0.9462 - val_loss: 5.7888 - val_accuracy: 0.0350\n",
      "Epoch 12/20\n",
      "100/100 [==============================] - 100s 1s/step - loss: 0.1484 - accuracy: 0.9567 - val_loss: 5.8772 - val_accuracy: 0.0336\n",
      "Epoch 13/20\n",
      "100/100 [==============================] - 100s 996ms/step - loss: 0.1465 - accuracy: 0.9566 - val_loss: 6.1440 - val_accuracy: 0.0386\n",
      "Epoch 14/20\n",
      "100/100 [==============================] - 101s 1s/step - loss: 0.1336 - accuracy: 0.9584 - val_loss: 6.2830 - val_accuracy: 0.0350\n",
      "Epoch 15/20\n",
      "100/100 [==============================] - 99s 995ms/step - loss: 0.1246 - accuracy: 0.9630 - val_loss: 6.6758 - val_accuracy: 0.0409\n",
      "Epoch 16/20\n",
      "100/100 [==============================] - 103s 1s/step - loss: 0.1258 - accuracy: 0.9616 - val_loss: 6.8459 - val_accuracy: 0.0347\n",
      "Epoch 17/20\n",
      "100/100 [==============================] - 100s 999ms/step - loss: 0.1151 - accuracy: 0.9638 - val_loss: 7.1547 - val_accuracy: 0.0350\n",
      "Epoch 18/20\n",
      "100/100 [==============================] - 101s 1s/step - loss: 0.1085 - accuracy: 0.9674 - val_loss: 6.6916 - val_accuracy: 0.0350\n",
      "Epoch 19/20\n",
      "100/100 [==============================] - 100s 997ms/step - loss: 0.1037 - accuracy: 0.9691 - val_loss: 6.7533 - val_accuracy: 0.0350\n",
      "Epoch 20/20\n",
      "100/100 [==============================] - 100s 1s/step - loss: 0.1019 - accuracy: 0.9677 - val_loss: 7.2851 - val_accuracy: 0.0350\n",
      "Evaluating model...\n"
     ]
    },
    {
     "data": {
      "image/png": "[encoded data removed]",
      "text/plain": [
       "<Figure size 432x288 with 1 Axes>"
      ]
     },
     "metadata": {
      "needs_background": "light"
     },
     "output_type": "display_data"
    }
   ],
   "source": [
    "fit_with_base_model(tf.keras.applications.ResNet50(include_top=False, weights='imagenet'))"
   ]
  },
  {
   "cell_type": "markdown",
   "metadata": {},
   "source": [
    "## ResNet50V2\n",
    "This model uses ResNet50V2 as a base model initialized with the ImageNet weights.  "
   ]
  },
  {
   "cell_type": "code",
   "execution_count": 6,
   "metadata": {
    "pycharm": {
     "name": "#%%\n"
    }
   },
   "outputs": [
    {
     "name": "stdout",
     "output_type": "stream",
     "text": [
      "Defining train data generator...\n",
      "Found 60900 images belonging to 29 classes.\n",
      "Found 26100 images belonging to 29 classes.\n",
      "Model: \"sequential\"\n",
      "_________________________________________________________________\n",
      "Layer (type)                 Output Shape              Param #   \n",
      "=================================================================\n",
      "resnet50 (Model)             (None, None, None, 2048)  23587712  \n",
      "_________________________________________________________________\n",
      "global_average_pooling2d (Gl (None, 2048)              0         \n",
      "_________________________________________________________________\n",
      "dense (Dense)                (None, 128)               262272    \n",
      "_________________________________________________________________\n",
      "dropout (Dropout)            (None, 128)               0         \n",
      "_________________________________________________________________\n",
      "dense_1 (Dense)              (None, 29)                3741      \n",
      "=================================================================\n",
      "Total params: 23,853,725\n",
      "Trainable params: 266,013\n",
      "Non-trainable params: 23,587,712\n",
      "_________________________________________________________________\n",
      "Fitting model...\n",
      "WARNING:tensorflow:sample_weight modes were coerced from\n",
      "  ...\n",
      "    to  \n",
      "  ['...']\n",
      "WARNING:tensorflow:sample_weight modes were coerced from\n",
      "  ...\n",
      "    to  \n",
      "  ['...']\n",
      "Train for 100 steps, validate for 50 steps\n",
      "Epoch 1/20\n",
      "100/100 [==============================] - 101s 1s/step - loss: 1.7825 - accuracy: 0.5202 - val_loss: 3.8478 - val_accuracy: 0.0339\n",
      "Epoch 2/20\n",
      "100/100 [==============================] - 100s 1s/step - loss: 0.7077 - accuracy: 0.8007 - val_loss: 4.0406 - val_accuracy: 0.0339\n",
      "Epoch 3/20\n",
      "100/100 [==============================] - 99s 989ms/step - loss: 0.4856 - accuracy: 0.8645 - val_loss: 4.1331 - val_accuracy: 0.0339\n",
      "Epoch 4/20\n",
      "100/100 [==============================] - 100s 1000ms/step - loss: 0.3897 - accuracy: 0.8886 - val_loss: 4.2967 - val_accuracy: 0.0339\n",
      "Epoch 5/20\n",
      "100/100 [==============================] - 100s 1s/step - loss: 0.3163 - accuracy: 0.9068 - val_loss: 4.3767 - val_accuracy: 0.0339\n",
      "Epoch 6/20\n",
      "100/100 [==============================] - 101s 1s/step - loss: 0.2616 - accuracy: 0.9231 - val_loss: 4.4302 - val_accuracy: 0.0306\n",
      "Epoch 7/20\n",
      "100/100 [==============================] - 100s 999ms/step - loss: 0.2389 - accuracy: 0.9309 - val_loss: 4.5507 - val_accuracy: 0.0361\n",
      "Epoch 8/20\n",
      "100/100 [==============================] - 100s 1s/step - loss: 0.2097 - accuracy: 0.9392 - val_loss: 4.7390 - val_accuracy: 0.0372\n",
      "Epoch 9/20\n",
      "100/100 [==============================] - 102s 1s/step - loss: 0.1952 - accuracy: 0.9425 - val_loss: 5.0063 - val_accuracy: 0.0372\n",
      "Epoch 10/20\n",
      "100/100 [==============================] - 99s 993ms/step - loss: 0.1841 - accuracy: 0.9440 - val_loss: 5.1399 - val_accuracy: 0.0367\n",
      "Epoch 11/20\n",
      "100/100 [==============================] - 100s 1s/step - loss: 0.1730 - accuracy: 0.9486 - val_loss: 5.8191 - val_accuracy: 0.0422\n",
      "Epoch 12/20\n",
      "100/100 [==============================] - 101s 1s/step - loss: 0.1495 - accuracy: 0.9568 - val_loss: 5.4660 - val_accuracy: 0.0394\n",
      "Epoch 13/20\n",
      "100/100 [==============================] - 102s 1s/step - loss: 0.1352 - accuracy: 0.9594 - val_loss: 5.6805 - val_accuracy: 0.0372\n",
      "Epoch 14/20\n",
      "100/100 [==============================] - 99s 992ms/step - loss: 0.1373 - accuracy: 0.9573 - val_loss: 5.6390 - val_accuracy: 0.0372\n",
      "Epoch 15/20\n",
      "100/100 [==============================] - 102s 1s/step - loss: 0.1372 - accuracy: 0.9575 - val_loss: 5.9681 - val_accuracy: 0.0372\n",
      "Epoch 16/20\n",
      "100/100 [==============================] - 99s 991ms/step - loss: 0.1219 - accuracy: 0.9626 - val_loss: 6.2330 - val_accuracy: 0.0427\n",
      "Epoch 17/20\n",
      "100/100 [==============================] - 101s 1s/step - loss: 0.1205 - accuracy: 0.9630 - val_loss: 6.6519 - val_accuracy: 0.0372\n",
      "Epoch 18/20\n",
      "100/100 [==============================] - 99s 988ms/step - loss: 0.1093 - accuracy: 0.9679 - val_loss: 6.8232 - val_accuracy: 0.0372\n",
      "Epoch 19/20\n",
      "100/100 [==============================] - 99s 987ms/step - loss: 0.1038 - accuracy: 0.9693 - val_loss: 6.8728 - val_accuracy: 0.0372\n",
      "Epoch 20/20\n",
      "100/100 [==============================] - 101s 1s/step - loss: 0.1074 - accuracy: 0.9673 - val_loss: 7.3333 - val_accuracy: 0.0373\n",
      "Evaluating model...\n"
     ]
    },
    {
     "data": {
      "image/png": "[encoded data removed]",
      "text/plain": [
       "<Figure size 432x288 with 1 Axes>"
      ]
     },
     "metadata": {
      "needs_background": "light"
     },
     "output_type": "display_data"
    }
   ],
   "source": [
    "fit_with_base_model(tf.keras.applications.ResNet50(include_top=False, weights='imagenet'))"
   ]
  },
  {
   "cell_type": "markdown",
   "metadata": {},
   "source": [
    "## VGG16\n",
    "This model uses VGG16 as a base model initialized with the ImageNet weights.  "
   ]
  },
  {
   "cell_type": "code",
   "execution_count": 7,
   "metadata": {
    "pycharm": {
     "name": "#%%\n"
    }
   },
   "outputs": [
    {
     "name": "stdout",
     "output_type": "stream",
     "text": [
      "Defining train data generator...\n",
      "Found 60900 images belonging to 29 classes.\n",
      "Found 26100 images belonging to 29 classes.\n",
      "Model: \"sequential\"\n",
      "_________________________________________________________________\n",
      "Layer (type)                 Output Shape              Param #   \n",
      "=================================================================\n",
      "vgg16 (Model)                (None, None, None, 512)   14714688  \n",
      "_________________________________________________________________\n",
      "global_average_pooling2d (Gl (None, 512)               0         \n",
      "_________________________________________________________________\n",
      "dense (Dense)                (None, 128)               65664     \n",
      "_________________________________________________________________\n",
      "dropout (Dropout)            (None, 128)               0         \n",
      "_________________________________________________________________\n",
      "dense_1 (Dense)              (None, 29)                3741      \n",
      "=================================================================\n",
      "Total params: 14,784,093\n",
      "Trainable params: 69,405\n",
      "Non-trainable params: 14,714,688\n",
      "_________________________________________________________________\n",
      "Fitting model...\n",
      "WARNING:tensorflow:sample_weight modes were coerced from\n",
      "  ...\n",
      "    to  \n",
      "  ['...']\n",
      "WARNING:tensorflow:sample_weight modes were coerced from\n",
      "  ...\n",
      "    to  \n",
      "  ['...']\n",
      "Train for 100 steps, validate for 50 steps\n",
      "Epoch 1/20\n",
      "100/100 [==============================] - 98s 977ms/step - loss: 3.1842 - accuracy: 0.1705 - val_loss: 3.0042 - val_accuracy: 0.2755\n",
      "Epoch 2/20\n",
      "100/100 [==============================] - 100s 998ms/step - loss: 2.5867 - accuracy: 0.4106 - val_loss: 2.4671 - val_accuracy: 0.4308\n",
      "Epoch 3/20\n",
      "100/100 [==============================] - 98s 976ms/step - loss: 2.0046 - accuracy: 0.5180 - val_loss: 2.0671 - val_accuracy: 0.4917\n",
      "Epoch 4/20\n",
      "100/100 [==============================] - 99s 995ms/step - loss: 1.6344 - accuracy: 0.5898 - val_loss: 1.7905 - val_accuracy: 0.5506\n",
      "Epoch 5/20\n",
      "100/100 [==============================] - 98s 983ms/step - loss: 1.3888 - accuracy: 0.6392 - val_loss: 1.6082 - val_accuracy: 0.5905\n",
      "Epoch 6/20\n",
      "100/100 [==============================] - 99s 993ms/step - loss: 1.2081 - accuracy: 0.6893 - val_loss: 1.4667 - val_accuracy: 0.6131\n",
      "Epoch 7/20\n",
      "100/100 [==============================] - 100s 997ms/step - loss: 1.0667 - accuracy: 0.7221 - val_loss: 1.3566 - val_accuracy: 0.6481\n",
      "Epoch 8/20\n",
      "100/100 [==============================] - 98s 977ms/step - loss: 0.9651 - accuracy: 0.7462 - val_loss: 1.2581 - val_accuracy: 0.6691\n",
      "Epoch 9/20\n",
      "100/100 [==============================] - 97s 973ms/step - loss: 0.8768 - accuracy: 0.7652 - val_loss: 1.2170 - val_accuracy: 0.6673\n",
      "Epoch 10/20\n",
      "100/100 [==============================] - 98s 980ms/step - loss: 0.8130 - accuracy: 0.7779 - val_loss: 1.1397 - val_accuracy: 0.6911\n",
      "Epoch 11/20\n",
      "100/100 [==============================] - 100s 999ms/step - loss: 0.7545 - accuracy: 0.7950 - val_loss: 1.0876 - val_accuracy: 0.7109\n",
      "Epoch 12/20\n",
      "100/100 [==============================] - 99s 986ms/step - loss: 0.7011 - accuracy: 0.8071 - val_loss: 1.0837 - val_accuracy: 0.6844\n",
      "Epoch 13/20\n",
      "100/100 [==============================] - 96s 962ms/step - loss: 0.6616 - accuracy: 0.8166 - val_loss: 1.0513 - val_accuracy: 0.6931\n",
      "Epoch 14/20\n",
      "100/100 [==============================] - 99s 986ms/step - loss: 0.6169 - accuracy: 0.8359 - val_loss: 0.9997 - val_accuracy: 0.7188\n",
      "Epoch 15/20\n",
      "100/100 [==============================] - 99s 988ms/step - loss: 0.5846 - accuracy: 0.8355 - val_loss: 0.9870 - val_accuracy: 0.7220\n",
      "Epoch 16/20\n",
      "100/100 [==============================] - 102s 1s/step - loss: 0.5591 - accuracy: 0.8467 - val_loss: 0.9777 - val_accuracy: 0.7175\n",
      "Epoch 17/20\n",
      "100/100 [==============================] - 98s 983ms/step - loss: 0.5297 - accuracy: 0.8504 - val_loss: 0.9442 - val_accuracy: 0.7278\n",
      "Epoch 18/20\n",
      "100/100 [==============================] - 99s 992ms/step - loss: 0.5229 - accuracy: 0.8522 - val_loss: 0.9007 - val_accuracy: 0.7341\n",
      "Epoch 19/20\n",
      "100/100 [==============================] - 99s 990ms/step - loss: 0.4839 - accuracy: 0.8642 - val_loss: 0.9283 - val_accuracy: 0.7270\n",
      "Epoch 20/20\n",
      "100/100 [==============================] - 100s 1s/step - loss: 0.4687 - accuracy: 0.8687 - val_loss: 0.8939 - val_accuracy: 0.7330\n",
      "Evaluating model...\n"
     ]
    },
    {
     "data": {
      "image/png": "[encoded data removed]",
      "text/plain": [
       "<Figure size 432x288 with 1 Axes>"
      ]
     },
     "metadata": {
      "needs_background": "light"
     },
     "output_type": "display_data"
    }
   ],
   "source": [
    "fit_with_base_model(tf.keras.applications.VGG16(include_top=False, weights='imagenet'))"
   ]
  },
  {
   "cell_type": "markdown",
   "metadata": {},
   "source": [
    "## VGG19\n",
    "This model uses VGG19 as a base model initialized with the ImageNet weights.  "
   ]
  },
  {
   "cell_type": "code",
   "execution_count": 8,
   "metadata": {
    "pycharm": {
     "name": "#%%\n"
    }
   },
   "outputs": [
    {
     "name": "stdout",
     "output_type": "stream",
     "text": [
      "Defining train data generator...\n",
      "Found 60900 images belonging to 29 classes.\n",
      "Found 26100 images belonging to 29 classes.\n",
      "Model: \"sequential\"\n",
      "_________________________________________________________________\n",
      "Layer (type)                 Output Shape              Param #   \n",
      "=================================================================\n",
      "vgg19 (Model)                (None, None, None, 512)   20024384  \n",
      "_________________________________________________________________\n",
      "global_average_pooling2d (Gl (None, 512)               0         \n",
      "_________________________________________________________________\n",
      "dense (Dense)                (None, 128)               65664     \n",
      "_________________________________________________________________\n",
      "dropout (Dropout)            (None, 128)               0         \n",
      "_________________________________________________________________\n",
      "dense_1 (Dense)              (None, 29)                3741      \n",
      "=================================================================\n",
      "Total params: 20,093,789\n",
      "Trainable params: 69,405\n",
      "Non-trainable params: 20,024,384\n",
      "_________________________________________________________________\n",
      "Fitting model...\n",
      "WARNING:tensorflow:sample_weight modes were coerced from\n",
      "  ...\n",
      "    to  \n",
      "  ['...']\n",
      "WARNING:tensorflow:sample_weight modes were coerced from\n",
      "  ...\n",
      "    to  \n",
      "  ['...']\n",
      "Train for 100 steps, validate for 50 steps\n",
      "Epoch 1/20\n",
      "100/100 [==============================] - 98s 975ms/step - loss: 3.2511 - accuracy: 0.1306 - val_loss: 3.1255 - val_accuracy: 0.1967\n",
      "Epoch 2/20\n",
      "100/100 [==============================] - 99s 993ms/step - loss: 2.8240 - accuracy: 0.3090 - val_loss: 2.7600 - val_accuracy: 0.3070\n",
      "Epoch 3/20\n",
      "100/100 [==============================] - 99s 990ms/step - loss: 2.3686 - accuracy: 0.4102 - val_loss: 2.4663 - val_accuracy: 0.3428\n",
      "Epoch 4/20\n",
      "100/100 [==============================] - 102s 1s/step - loss: 2.0001 - accuracy: 0.4867 - val_loss: 2.1883 - val_accuracy: 0.4161\n",
      "Epoch 5/20\n",
      "100/100 [==============================] - 99s 991ms/step - loss: 1.7485 - accuracy: 0.5434 - val_loss: 2.0358 - val_accuracy: 0.4384\n",
      "Epoch 6/20\n",
      "100/100 [==============================] - 99s 991ms/step - loss: 1.5774 - accuracy: 0.5847 - val_loss: 1.9105 - val_accuracy: 0.4762\n",
      "Epoch 7/20\n",
      "100/100 [==============================] - 100s 1s/step - loss: 1.4322 - accuracy: 0.6178 - val_loss: 1.8249 - val_accuracy: 0.4858\n",
      "Epoch 8/20\n",
      "100/100 [==============================] - 101s 1s/step - loss: 1.3150 - accuracy: 0.6457 - val_loss: 1.6991 - val_accuracy: 0.5325\n",
      "Epoch 9/20\n",
      "100/100 [==============================] - 100s 997ms/step - loss: 1.2098 - accuracy: 0.6676 - val_loss: 1.6559 - val_accuracy: 0.5250\n",
      "Epoch 10/20\n",
      "100/100 [==============================] - 100s 998ms/step - loss: 1.1372 - accuracy: 0.6884 - val_loss: 1.5554 - val_accuracy: 0.5675\n",
      "Epoch 11/20\n",
      "100/100 [==============================] - 99s 990ms/step - loss: 1.0537 - accuracy: 0.7083 - val_loss: 1.5215 - val_accuracy: 0.5730\n",
      "Epoch 12/20\n",
      "100/100 [==============================] - 100s 1s/step - loss: 0.9940 - accuracy: 0.7173 - val_loss: 1.4786 - val_accuracy: 0.5770\n",
      "Epoch 13/20\n",
      "100/100 [==============================] - 99s 994ms/step - loss: 0.9562 - accuracy: 0.7315 - val_loss: 1.4155 - val_accuracy: 0.5986\n",
      "Epoch 14/20\n",
      "100/100 [==============================] - 100s 999ms/step - loss: 0.8902 - accuracy: 0.7525 - val_loss: 1.4145 - val_accuracy: 0.5872\n",
      "Epoch 15/20\n",
      "100/100 [==============================] - 99s 990ms/step - loss: 0.8672 - accuracy: 0.7584 - val_loss: 1.3526 - val_accuracy: 0.6056\n",
      "Epoch 16/20\n",
      "100/100 [==============================] - 100s 996ms/step - loss: 0.8247 - accuracy: 0.7666 - val_loss: 1.3509 - val_accuracy: 0.6055\n",
      "Epoch 17/20\n",
      "100/100 [==============================] - 100s 999ms/step - loss: 0.8063 - accuracy: 0.7715 - val_loss: 1.3080 - val_accuracy: 0.6134\n",
      "Epoch 18/20\n",
      "100/100 [==============================] - 99s 994ms/step - loss: 0.7647 - accuracy: 0.7830 - val_loss: 1.2715 - val_accuracy: 0.6306\n",
      "Epoch 19/20\n",
      "100/100 [==============================] - 100s 997ms/step - loss: 0.7398 - accuracy: 0.7848 - val_loss: 1.2684 - val_accuracy: 0.6267\n",
      "Epoch 20/20\n",
      "100/100 [==============================] - 99s 991ms/step - loss: 0.7212 - accuracy: 0.7934 - val_loss: 1.2508 - val_accuracy: 0.6334\n",
      "Evaluating model...\n"
     ]
    },
    {
     "data": {
      "image/png": "[encoded data removed]",
      "text/plain": [
       "<Figure size 432x288 with 1 Axes>"
      ]
     },
     "metadata": {
      "needs_background": "light"
     },
     "output_type": "display_data"
    }
   ],
   "source": [
    "fit_with_base_model(tf.keras.applications.VGG19(include_top=False, weights='imagenet'))"
   ]
  },
  {
   "cell_type": "markdown",
   "metadata": {
    "pycharm": {
     "name": "#%% md\n"
    }
   },
   "source": [
    "### In case, a kernel is interrupted, to free up GPU memory, run:"
   ]
  },
  {
   "cell_type": "code",
   "execution_count": null,
   "metadata": {},
   "outputs": [],
   "source": [
    "try: \n",
    "    del model\n",
    "except NameError: model = None\n",
    "\n",
    "K.clear_session()"
   ]
  }
 ],
 "metadata": {
  "kernelspec": {
   "display_name": "Python 3",
   "language": "python",
   "name": "python3"
  },
  "language_info": {
   "codemirror_mode": {
    "name": "ipython",
    "version": 3
   },
   "file_extension": ".py",
   "mimetype": "text/x-python",
   "name": "python",
   "nbconvert_exporter": "python",
   "pygments_lexer": "ipython3",
   "version": "3.7.6"
  },
  "pycharm": {
   "stem_cell": {
    "cell_type": "raw",
    "metadata": {
     "collapsed": false
    },
    "source": []
   }
  }
 },
 "nbformat": 4,
 "nbformat_minor": 4
}
