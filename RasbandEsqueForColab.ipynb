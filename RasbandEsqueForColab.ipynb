{
  "nbformat": 4,
  "nbformat_minor": 0,
  "metadata": {
    "accelerator": "GPU",
    "colab": {
      "name": "RasbandEsqueForColab.ipynb",
      "provenance": [],
      "collapsed_sections": [],
      "machine_shape": "hm"
    },
    "kernelspec": {
      "display_name": "Python 3",
      "language": "python",
      "name": "python3"
    },
    "language_info": {
      "codemirror_mode": {
        "name": "ipython",
        "version": 3
      },
      "file_extension": ".py",
      "mimetype": "text/x-python",
      "name": "python",
      "nbconvert_exporter": "python",
      "pygments_lexer": "ipython3",
      "version": "3.7.4"
    },
    "pycharm": {
      "stem_cell": {
        "cell_type": "raw",
        "metadata": {
          "collapsed": false
        },
        "source": []
      }
    }
  },
  "cells": [
    {
      "cell_type": "markdown",
      "metadata": {
        "colab_type": "text",
        "id": "fiSDr8fxfLVL"
      },
      "source": [
        "# ASL Classification with a CNN"
      ]
    },
    {
      "cell_type": "code",
      "metadata": {
        "colab_type": "code",
        "id": "6Td3IOGBfXFB",
        "outputId": "8f8af7bc-9a73-4660-f496-507328ff337b",
        "colab": {
          "base_uri": "https://localhost:8080/",
          "height": 328
        }
      },
      "source": [
        "!pip install git+https://github.com/tensorflow/docs"
      ],
      "execution_count": 1,
      "outputs": [
        {
          "output_type": "stream",
          "text": [
            "Collecting git+https://github.com/tensorflow/docs\n",
            "  Cloning https://github.com/tensorflow/docs to /tmp/pip-req-build-doodpaix\n",
            "  Running command git clone -q https://github.com/tensorflow/docs /tmp/pip-req-build-doodpaix\n",
            "Requirement already satisfied: astor in /usr/local/lib/python3.6/dist-packages (from tensorflow-docs==0.0.0) (0.8.1)\n",
            "Requirement already satisfied: absl-py in /usr/local/lib/python3.6/dist-packages (from tensorflow-docs==0.0.0) (0.9.0)\n",
            "Requirement already satisfied: six in /usr/local/lib/python3.6/dist-packages (from tensorflow-docs==0.0.0) (1.12.0)\n",
            "Collecting pathlib2\n",
            "  Downloading https://files.pythonhosted.org/packages/e9/45/9c82d3666af4ef9f221cbb954e1d77ddbb513faf552aea6df5f37f1a4859/pathlib2-2.3.5-py2.py3-none-any.whl\n",
            "Requirement already satisfied: pyyaml in /usr/local/lib/python3.6/dist-packages (from tensorflow-docs==0.0.0) (3.13)\n",
            "Building wheels for collected packages: tensorflow-docs\n",
            "  Building wheel for tensorflow-docs (setup.py) ... \u001b[?25l\u001b[?25hdone\n",
            "  Created wheel for tensorflow-docs: filename=tensorflow_docs-0.0.0-cp36-none-any.whl size=82437 sha256=ca7c3f2c93fb5d05795eab155fc9516ea51df06adbc651785ebab730a451e0b9\n",
            "  Stored in directory: /tmp/pip-ephem-wheel-cache-9jqqd29j/wheels/eb/1b/35/fce87697be00d2fc63e0b4b395b0d9c7e391a10e98d9a0d97f\n",
            "Successfully built tensorflow-docs\n",
            "Installing collected packages: pathlib2, tensorflow-docs\n",
            "Successfully installed pathlib2-2.3.5 tensorflow-docs-0.0.0\n"
          ],
          "name": "stdout"
        }
      ]
    },
    {
      "cell_type": "code",
      "metadata": {
        "id": "8rlwU__f1iMB",
        "colab_type": "code",
        "colab": {
          "base_uri": "https://localhost:8080/",
          "height": 35
        },
        "outputId": "64752314-80ea-47ef-ae19-f78a951eb3d7"
      },
      "source": [
        "%tensorflow_version 1.x"
      ],
      "execution_count": 2,
      "outputs": [
        {
          "output_type": "stream",
          "text": [
            "TensorFlow 1.x selected.\n"
          ],
          "name": "stdout"
        }
      ]
    },
    {
      "cell_type": "code",
      "metadata": {
        "colab_type": "code",
        "id": "M1iDO_8nfLVO",
        "pycharm": {
          "is_executing": false
        },
        "scrolled": true,
        "colab": {
          "base_uri": "https://localhost:8080/",
          "height": 35
        },
        "outputId": "14f715bc-d0e0-4984-b9e8-a001668229cf"
      },
      "source": [
        "import matplotlib.pyplot as plt\n",
        "import tensorflow as tf\n",
        "print(tf.__version__)\n",
        "import tensorflow_docs as tfdocs\n",
        "import tensorflow_docs.plots\n",
        "import numpy as np\n",
        "#import keras\n",
        "\n",
        "from keras import backend as K\n",
        "from tensorflow.keras.preprocessing.image import ImageDataGenerator\n",
        "from google.colab import drive\n",
        "from glob import glob\n",
        "\n",
        "\n",
        "# Get reproducible results\n",
        "#random_state = 46\n",
        "#tf.random.set_seed(random_state)"
      ],
      "execution_count": 4,
      "outputs": [
        {
          "output_type": "stream",
          "text": [
            "1.15.2\n"
          ],
          "name": "stdout"
        }
      ]
    },
    {
      "cell_type": "markdown",
      "metadata": {
        "colab_type": "text",
        "id": "mwqHPOybfLVk",
        "pycharm": {
          "is_executing": false
        }
      },
      "source": [
        "## GPU configuration\n",
        "If you have a GPU, enable experimental memory growth."
      ]
    },
    {
      "cell_type": "code",
      "metadata": {
        "colab_type": "code",
        "id": "EpoV0VFifLVq",
        "pycharm": {
          "is_executing": false
        },
        "scrolled": true,
        "outputId": "397d8bf2-1c58-4715-95e1-80a5313610c7",
        "colab": {
          "base_uri": "https://localhost:8080/",
          "height": 35
        }
      },
      "source": [
        "gpus = tf.config.experimental.list_physical_devices('GPU')\n",
        "if gpus:\n",
        "    try:\n",
        "        for gpu in gpus:\n",
        "            tf.config.experimental.set_memory_growth(gpu, True)\n",
        "            logical_gpus = tf.config.experimental.list_logical_devices('GPU')\n",
        "            print(len(gpus), \"Physical GPUs,\", len(logical_gpus), \"Logical GPUs\")\n",
        "    except RuntimeError as e:\n",
        "        print(e)"
      ],
      "execution_count": 5,
      "outputs": [
        {
          "output_type": "stream",
          "text": [
            "1 Physical GPUs, 1 Logical GPUs\n"
          ],
          "name": "stdout"
        }
      ]
    },
    {
      "cell_type": "markdown",
      "metadata": {
        "colab_type": "text",
        "id": "hV_7QQvEfLV7"
      },
      "source": [
        "## File Paths"
      ]
    },
    {
      "cell_type": "code",
      "metadata": {
        "colab_type": "code",
        "id": "2sEZX61ofg4h",
        "outputId": "a9548c41-290c-4dbb-f831-39adfa7f4cd7",
        "colab": {
          "base_uri": "https://localhost:8080/",
          "height": 146
        }
      },
      "source": [
        "drive.mount('/content/drive/')\n",
        "!ls \"/content/drive/My Drive/ECE 542/asl_alphabet_test\""
      ],
      "execution_count": 6,
      "outputs": [
        {
          "output_type": "stream",
          "text": [
            "Go to this URL in a browser: https://accounts.google.com/o/oauth2/auth?client_id=947318989803-6bn6qk8qdgf4n4g3pfee6491hc0brc4i.apps.googleusercontent.com&redirect_uri=urn%3aietf%3awg%3aoauth%3a2.0%3aoob&response_type=code&scope=email%20https%3a%2f%2fwww.googleapis.com%2fauth%2fdocs.test%20https%3a%2f%2fwww.googleapis.com%2fauth%2fdrive%20https%3a%2f%2fwww.googleapis.com%2fauth%2fdrive.photos.readonly%20https%3a%2f%2fwww.googleapis.com%2fauth%2fpeopleapi.readonly\n",
            "\n",
            "Enter your authorization code:\n",
            "··········\n",
            "Mounted at /content/drive/\n",
            "asl_alphabet_test\n"
          ],
          "name": "stdout"
        }
      ]
    },
    {
      "cell_type": "code",
      "metadata": {
        "colab_type": "code",
        "id": "uzZG4Dy7fLV_",
        "pycharm": {
          "is_executing": false
        },
        "scrolled": true,
        "colab": {}
      },
      "source": [
        "train_dir = \"/content/drive/My Drive/ECE 542/asl_alphabet_train/asl_alphabet_train\"\n",
        "test_dir = \"/content/drive/My Drive/ECE 542/asl_alphabet_test/asl_alphabet_test\"\n",
        "test_dir_rasband = \"/content/drive/My Drive/ECE 542/asl_alphabet_rasbandtest\"\n",
        "best_model_path = \"/content/drive/My Drive/ECE 542/4828_percent_acc.h5\"\n",
        "\n",
        "classnames = [folder[len(train_dir) + 1:] for folder in glob(train_dir + '/*')]\n",
        "classnames.sort()"
      ],
      "execution_count": 0,
      "outputs": []
    },
    {
      "cell_type": "markdown",
      "metadata": {
        "colab_type": "text",
        "id": "1WhfXMX3fLWN",
        "pycharm": {
          "name": "#%% md\n"
        }
      },
      "source": [
        "## Train model"
      ]
    },
    {
      "cell_type": "code",
      "metadata": {
        "colab_type": "code",
        "id": "3gYwmnn6fLWO",
        "pycharm": {
          "is_executing": false,
          "name": "#%%\n"
        },
        "scrolled": false,
        "colab": {}
      },
      "source": [
        "def fit_model(model, train_generator, val_generator):\n",
        "    sel_optimizer = tf.keras.optimizers.RMSprop(learning_rate=0.0001)\n",
        "    model.compile(optimizer=sel_optimizer,\n",
        "                  loss=tf.keras.losses.SparseCategoricalCrossentropy(from_logits=True),\n",
        "                  metrics=['accuracy'])\n",
        "    \n",
        "    model.summary()\n",
        "    \n",
        "    print('Fitting model...')\n",
        "    history = model.fit(train_generator, \n",
        "        steps_per_epoch=300, \n",
        "        epochs=100, \n",
        "        verbose=1, \n",
        "        validation_data=val_generator, \n",
        "        validation_steps=5,\n",
        "        use_multiprocessing=False,\n",
        "        workers=8,\n",
        "        callbacks=[\n",
        "                tf.keras.callbacks.ModelCheckpoint(filepath=best_model_path, monitor='val_accuracy', save_best_only = True),\n",
        "                tf.keras.callbacks.EarlyStopping(monitor='val_accuracy', min_delta = 0.001, patience = 6, restore_best_weights = True)\n",
        "            ])\n",
        "    \n",
        "    print('Evaluating model...')\n",
        "    plt.plot(history.history['accuracy'], label='accuracy')\n",
        "    plt.plot(history.history['val_accuracy'], label = 'val_accuracy')\n",
        "    plt.xlabel('Epoch')\n",
        "    plt.ylabel('Accuracy')\n",
        "    plt.ylim([0, 1])\n",
        "    plt.legend(loc='lower right')\n",
        "    \n",
        "    del model\n",
        "    K.clear_session()\n",
        "\n",
        "   "
      ],
      "execution_count": 0,
      "outputs": []
    },
    {
      "cell_type": "markdown",
      "metadata": {
        "colab_type": "text",
        "id": "_Ky7g73cfLWZ",
        "pycharm": {
          "name": "#%% md\n"
        }
      },
      "source": [
        "# models"
      ]
    },
    {
      "cell_type": "code",
      "metadata": {
        "colab_type": "code",
        "id": "4f-o446PfLWd",
        "outputId": "0ad99a3b-d3b6-478b-a51b-545175b76d16",
        "pycharm": {
          "name": "#%%\n"
        },
        "colab": {
          "base_uri": "https://localhost:8080/",
          "height": 53
        }
      },
      "source": [
        "imagesize = 48\n",
        "\n",
        "datagen = ImageDataGenerator(\n",
        "    #preprocessing_function=tf.keras.applications.vgg16.preprocess_input,\n",
        "    rescale=1./255,\n",
        "    brightness_range = (0.5,2.0),\n",
        "    rotation_range=5,\n",
        "    #width_shift_range = 0.1,\n",
        "    #height_shift_range = 0.1,\n",
        "    validation_split=0.20)\n",
        "\n",
        "testdatagen = ImageDataGenerator(\n",
        "    #preprocessing_function=tf.keras.applications.vgg16.preprocess_input,\n",
        "    rescale=1./255,\n",
        "    validation_split=0.0)\n",
        "\n",
        "train_generator = datagen.flow_from_directory(\n",
        "    train_dir,\n",
        "    subset='training',\n",
        "    target_size=(imagesize, imagesize),\n",
        "    batch_size=128,\n",
        "    shuffle = True,\n",
        "    class_mode='sparse',\n",
        ")\n",
        "\n",
        "val_generator = datagen.flow_from_directory(\n",
        "    train_dir,\n",
        "    subset='validation',\n",
        "    target_size=(imagesize, imagesize),\n",
        "    batch_size=128,\n",
        "    shuffle = True,\n",
        "    class_mode='sparse',\n",
        ")\n"
      ],
      "execution_count": 9,
      "outputs": [
        {
          "output_type": "stream",
          "text": [
            "Found 69632 images belonging to 29 classes.\n",
            "Found 17404 images belonging to 29 classes.\n"
          ],
          "name": "stdout"
        }
      ]
    },
    {
      "cell_type": "markdown",
      "metadata": {
        "id": "GHXM9J7Cy1Ft",
        "colab_type": "text"
      },
      "source": [
        "Do Not Run if you are only loading a new model for plotting\n"
      ]
    },
    {
      "cell_type": "code",
      "metadata": {
        "id": "pp1hBJzb4yRF",
        "colab_type": "code",
        "outputId": "4a762a5f-0c73-4035-f7f0-d3e0fcfd7c1d",
        "colab": {
          "base_uri": "https://localhost:8080/",
          "height": 1000
        }
      },
      "source": [
        "fit_model(tf.keras.models.Sequential([\n",
        "    tf.keras.layers.Conv2D(64, (6,6), input_shape=(imagesize, imagesize, 3),activation='relu'),\n",
        "    tf.keras.layers.MaxPooling2D(pool_size=(2, 2)),\n",
        "    tf.keras.layers.Dropout(0.25),\n",
        "    tf.keras.layers.Conv2D(128, (4,4), activation='relu'),\n",
        "    tf.keras.layers.Dropout(0.25),\n",
        "    tf.keras.layers.Conv2D(128, (4,4), activation='relu'),\n",
        "    tf.keras.layers.Dropout(0.25),\n",
        "    tf.keras.layers.MaxPooling2D(pool_size=(2, 2)),\n",
        "    tf.keras.layers.Conv2D(256, (2,2), activation='relu'),\n",
        "    tf.keras.layers.Dropout(0.25),\n",
        "    tf.keras.layers.Conv2D(256, (2,2), activation='relu'),\n",
        "    tf.keras.layers.Dropout(0.25),\n",
        "    tf.keras.layers.Flatten(),\n",
        "    tf.keras.layers.Dense(256, activation='relu'),\n",
        "    tf.keras.layers.Dropout(0.25),\n",
        "    tf.keras.layers.Dense(29, activation='softmax')\n",
        "]), train_generator, val_generator)"
      ],
      "execution_count": 0,
      "outputs": [
        {
          "output_type": "stream",
          "text": [
            "Model: \"sequential\"\n",
            "_________________________________________________________________\n",
            "Layer (type)                 Output Shape              Param #   \n",
            "=================================================================\n",
            "conv2d (Conv2D)              (None, 123, 123, 64)      6976      \n",
            "_________________________________________________________________\n",
            "max_pooling2d (MaxPooling2D) (None, 61, 61, 64)        0         \n",
            "_________________________________________________________________\n",
            "dropout (Dropout)            (None, 61, 61, 64)        0         \n",
            "_________________________________________________________________\n",
            "conv2d_1 (Conv2D)            (None, 58, 58, 128)       131200    \n",
            "_________________________________________________________________\n",
            "dropout_1 (Dropout)          (None, 58, 58, 128)       0         \n",
            "_________________________________________________________________\n",
            "conv2d_2 (Conv2D)            (None, 55, 55, 128)       262272    \n",
            "_________________________________________________________________\n",
            "dropout_2 (Dropout)          (None, 55, 55, 128)       0         \n",
            "_________________________________________________________________\n",
            "max_pooling2d_1 (MaxPooling2 (None, 27, 27, 128)       0         \n",
            "_________________________________________________________________\n",
            "conv2d_3 (Conv2D)            (None, 26, 26, 256)       131328    \n",
            "_________________________________________________________________\n",
            "dropout_3 (Dropout)          (None, 26, 26, 256)       0         \n",
            "_________________________________________________________________\n",
            "conv2d_4 (Conv2D)            (None, 25, 25, 256)       262400    \n",
            "_________________________________________________________________\n",
            "dropout_4 (Dropout)          (None, 25, 25, 256)       0         \n",
            "_________________________________________________________________\n",
            "flatten (Flatten)            (None, 160000)            0         \n",
            "_________________________________________________________________\n",
            "dense (Dense)                (None, 256)               40960256  \n",
            "_________________________________________________________________\n",
            "dropout_5 (Dropout)          (None, 256)               0         \n",
            "_________________________________________________________________\n",
            "dense_1 (Dense)              (None, 29)                7453      \n",
            "=================================================================\n",
            "Total params: 41,761,885\n",
            "Trainable params: 41,761,885\n",
            "Non-trainable params: 0\n",
            "_________________________________________________________________\n",
            "Fitting model...\n",
            "Epoch 1/100\n",
            "300/300 [==============================] - 3922s 13s/step - loss: 3.2822 - accuracy: 0.1380 - val_loss: 3.2864 - val_accuracy: 0.1359\n",
            "Epoch 2/100\n",
            "300/300 [==============================] - 3130s 10s/step - loss: 3.1926 - accuracy: 0.2312 - val_loss: 3.2728 - val_accuracy: 0.1484\n",
            "Epoch 3/100\n",
            "300/300 [==============================] - 385s 1s/step - loss: 3.1331 - accuracy: 0.2911 - val_loss: 3.2177 - val_accuracy: 0.2031\n",
            "Epoch 4/100\n",
            "300/300 [==============================] - 388s 1s/step - loss: 3.0739 - accuracy: 0.3519 - val_loss: 3.1984 - val_accuracy: 0.2234\n",
            "Epoch 5/100\n",
            "300/300 [==============================] - 394s 1s/step - loss: 3.0346 - accuracy: 0.3903 - val_loss: 3.1495 - val_accuracy: 0.2875\n",
            "Epoch 6/100\n",
            "300/300 [==============================] - 391s 1s/step - loss: 2.9819 - accuracy: 0.4436 - val_loss: 3.1550 - val_accuracy: 0.2688\n",
            "Epoch 7/100\n",
            "300/300 [==============================] - 387s 1s/step - loss: 2.9354 - accuracy: 0.4907 - val_loss: 3.1079 - val_accuracy: 0.3187\n",
            "Epoch 8/100\n",
            "300/300 [==============================] - 378s 1s/step - loss: 2.9014 - accuracy: 0.5241 - val_loss: 3.1275 - val_accuracy: 0.2984\n",
            "Epoch 9/100\n",
            "300/300 [==============================] - 382s 1s/step - loss: 2.8728 - accuracy: 0.5524 - val_loss: 3.0822 - val_accuracy: 0.3484\n",
            "Epoch 10/100\n",
            "300/300 [==============================] - 195s 651ms/step - loss: 2.8522 - accuracy: 0.5735 - val_loss: 3.1135 - val_accuracy: 0.3094\n",
            "Epoch 11/100\n",
            "300/300 [==============================] - 196s 654ms/step - loss: 2.8221 - accuracy: 0.6040 - val_loss: 3.1064 - val_accuracy: 0.3125\n",
            "Epoch 12/100\n",
            "300/300 [==============================] - 198s 660ms/step - loss: 2.7991 - accuracy: 0.6266 - val_loss: 3.0437 - val_accuracy: 0.3797\n",
            "Epoch 13/100\n",
            "300/300 [==============================] - 198s 661ms/step - loss: 2.7828 - accuracy: 0.6430 - val_loss: 3.0434 - val_accuracy: 0.3859\n",
            "Epoch 14/100\n",
            "300/300 [==============================] - 198s 661ms/step - loss: 2.7625 - accuracy: 0.6635 - val_loss: 3.0270 - val_accuracy: 0.3938\n",
            "Epoch 15/100\n",
            "300/300 [==============================] - 198s 661ms/step - loss: 2.7382 - accuracy: 0.6875 - val_loss: 3.0062 - val_accuracy: 0.4187\n",
            "Epoch 16/100\n",
            "300/300 [==============================] - 199s 663ms/step - loss: 2.7187 - accuracy: 0.7076 - val_loss: 3.0010 - val_accuracy: 0.4266\n",
            "Epoch 17/100\n",
            "300/300 [==============================] - 200s 666ms/step - loss: 2.7030 - accuracy: 0.7228 - val_loss: 3.0039 - val_accuracy: 0.4172\n",
            "Epoch 18/100\n",
            "300/300 [==============================] - 200s 666ms/step - loss: 2.6898 - accuracy: 0.7361 - val_loss: 2.9825 - val_accuracy: 0.4453\n",
            "Epoch 19/100\n",
            "300/300 [==============================] - 200s 666ms/step - loss: 2.6725 - accuracy: 0.7532 - val_loss: 2.9409 - val_accuracy: 0.4828\n",
            "Epoch 20/100\n",
            "300/300 [==============================] - 197s 656ms/step - loss: 2.6634 - accuracy: 0.7622 - val_loss: 2.9988 - val_accuracy: 0.4313\n",
            "Epoch 21/100\n",
            "300/300 [==============================] - 196s 654ms/step - loss: 2.6483 - accuracy: 0.7772 - val_loss: 2.9889 - val_accuracy: 0.4313\n",
            "Epoch 22/100\n",
            "300/300 [==============================] - 197s 655ms/step - loss: 2.6464 - accuracy: 0.7791 - val_loss: 3.0356 - val_accuracy: 0.3906\n",
            "Epoch 23/100\n",
            "300/300 [==============================] - 196s 655ms/step - loss: 2.6315 - accuracy: 0.7936 - val_loss: 2.9723 - val_accuracy: 0.4500\n",
            "Epoch 24/100\n",
            "300/300 [==============================] - 198s 661ms/step - loss: 2.6292 - accuracy: 0.7968 - val_loss: 2.9157 - val_accuracy: 0.5109\n",
            "Epoch 25/100\n",
            "300/300 [==============================] - 200s 666ms/step - loss: 2.6178 - accuracy: 0.8075 - val_loss: 2.9204 - val_accuracy: 0.5047\n",
            "Epoch 26/100\n",
            "300/300 [==============================] - 199s 662ms/step - loss: 2.6062 - accuracy: 0.8192 - val_loss: 2.9301 - val_accuracy: 0.4906\n",
            "Epoch 27/100\n",
            "300/300 [==============================] - 197s 657ms/step - loss: 2.6054 - accuracy: 0.8199 - val_loss: 2.9185 - val_accuracy: 0.5031\n",
            "Epoch 28/100\n",
            "300/300 [==============================] - 197s 655ms/step - loss: 2.5933 - accuracy: 0.8322 - val_loss: 2.9910 - val_accuracy: 0.4297\n",
            "Epoch 29/100\n",
            "300/300 [==============================] - 196s 653ms/step - loss: 2.5876 - accuracy: 0.8374 - val_loss: 2.9188 - val_accuracy: 0.5109\n",
            "Epoch 30/100\n",
            "300/300 [==============================] - 199s 663ms/step - loss: 2.5812 - accuracy: 0.8445 - val_loss: 2.8837 - val_accuracy: 0.5422\n",
            "Epoch 31/100\n",
            "300/300 [==============================] - 197s 655ms/step - loss: 2.5725 - accuracy: 0.8527 - val_loss: 2.8818 - val_accuracy: 0.5406\n",
            "Epoch 32/100\n",
            "300/300 [==============================] - 196s 654ms/step - loss: 2.5681 - accuracy: 0.8573 - val_loss: 2.9032 - val_accuracy: 0.5250\n",
            "Epoch 33/100\n",
            "300/300 [==============================] - 196s 653ms/step - loss: 2.5611 - accuracy: 0.8640 - val_loss: 2.8865 - val_accuracy: 0.5422\n",
            "Epoch 34/100\n",
            "300/300 [==============================] - 195s 651ms/step - loss: 2.5601 - accuracy: 0.8654 - val_loss: 2.9061 - val_accuracy: 0.5156\n",
            "Epoch 35/100\n",
            "300/300 [==============================] - 198s 659ms/step - loss: 2.5511 - accuracy: 0.8738 - val_loss: 2.8715 - val_accuracy: 0.5531\n",
            "Epoch 36/100\n",
            "300/300 [==============================] - 195s 652ms/step - loss: 2.5496 - accuracy: 0.8752 - val_loss: 2.8695 - val_accuracy: 0.5516\n",
            "Epoch 37/100\n",
            "300/300 [==============================] - 196s 653ms/step - loss: 2.5454 - accuracy: 0.8797 - val_loss: 2.8888 - val_accuracy: 0.5344\n",
            "Epoch 38/100\n",
            "300/300 [==============================] - 198s 660ms/step - loss: 2.5415 - accuracy: 0.8837 - val_loss: 2.8644 - val_accuracy: 0.5609\n",
            "Epoch 39/100\n",
            "300/300 [==============================] - 198s 659ms/step - loss: 2.5380 - accuracy: 0.8874 - val_loss: 2.8515 - val_accuracy: 0.5750\n",
            "Epoch 40/100\n",
            "300/300 [==============================] - 198s 659ms/step - loss: 2.5339 - accuracy: 0.8914 - val_loss: 2.8122 - val_accuracy: 0.6109\n",
            "Epoch 41/100\n",
            "300/300 [==============================] - 199s 662ms/step - loss: 2.5327 - accuracy: 0.8921 - val_loss: 2.8100 - val_accuracy: 0.6172\n",
            "Epoch 42/100\n",
            "300/300 [==============================] - 195s 651ms/step - loss: 2.5269 - accuracy: 0.8981 - val_loss: 2.8730 - val_accuracy: 0.5516\n",
            "Epoch 43/100\n",
            "300/300 [==============================] - 196s 654ms/step - loss: 2.5257 - accuracy: 0.8993 - val_loss: 2.8842 - val_accuracy: 0.5422\n",
            "Epoch 44/100\n",
            "300/300 [==============================] - 199s 664ms/step - loss: 2.5216 - accuracy: 0.9036 - val_loss: 2.8510 - val_accuracy: 0.5719\n",
            "Epoch 45/100\n",
            "300/300 [==============================] - 199s 663ms/step - loss: 2.5222 - accuracy: 0.9028 - val_loss: 2.8258 - val_accuracy: 0.6031\n",
            "Epoch 46/100\n",
            "300/300 [==============================] - 196s 654ms/step - loss: 2.5182 - accuracy: 0.9069 - val_loss: 2.8443 - val_accuracy: 0.5766\n",
            "Epoch 47/100\n",
            "300/300 [==============================] - 196s 655ms/step - loss: 2.5148 - accuracy: 0.9104 - val_loss: 2.8773 - val_accuracy: 0.5422\n",
            "Evaluating model...\n"
          ],
          "name": "stdout"
        },
        {
          "output_type": "display_data",
          "data": {
            "image/png": "[encoded data removed]",
            "text/plain": [
              "<Figure size 432x288 with 1 Axes>"
            ]
          },
          "metadata": {
            "tags": [],
            "needs_background": "light"
          }
        }
      ]
    },
    {
      "cell_type": "code",
      "metadata": {
        "colab_type": "code",
        "id": "YEhVYQktfLWz",
        "outputId": "1c336515-e0ff-453d-e24f-34c8edc00a3f",
        "colab": {
          "base_uri": "https://localhost:8080/",
          "height": 782
        }
      },
      "source": [
        "from tensorflow.keras.models import load_model\n",
        "from sklearn.metrics import classification_report, confusion_matrix\n",
        "import seaborn as sns\n",
        "import itertools\n",
        "\n",
        "model_path = best_model_path\n",
        "\n",
        "model_uploaded = load_model(model_path)\n",
        "\n",
        "test_generator = testdatagen.flow_from_directory(\n",
        "    test_dir_rasband,\n",
        "    target_size=(imagesize, imagesize),\n",
        "    #class_mode='sparse',\n",
        "    batch_size = 1,\n",
        "    shuffle=False\n",
        ")\n",
        "\n",
        "\n",
        "model_uploaded.evaluate(test_generator, verbose=1,steps=870)\n",
        "\n",
        "predictions = model_uploaded.predict(test_generator, verbose = 1, steps = 870)\n",
        "\n",
        "y_pred = np.argmax(predictions, axis=1)\n",
        "y_true = test_generator.classes\n",
        "predDict = dict(y_pred=y_pred, y_true=y_true)\n",
        "\n",
        "print(classification_report(**predDict, target_names=classnames))"
      ],
      "execution_count": 11,
      "outputs": [
        {
          "output_type": "stream",
          "text": [
            "Found 870 images belonging to 29 classes.\n",
            "870/870 [==============================] - 155s 178ms/step - loss: 14.0513 - acc: 0.4828\n",
            "870/870 [==============================] - 3s 4ms/step\n",
            "              precision    recall  f1-score   support\n",
            "\n",
            "           A       0.00      0.00      0.00        30\n",
            "           B       0.38      0.17      0.23        30\n",
            "           C       0.41      0.23      0.30        30\n",
            "           D       0.69      0.37      0.48        30\n",
            "           E       0.31      0.17      0.22        30\n",
            "           F       0.74      0.47      0.57        30\n",
            "           G       0.60      0.60      0.60        30\n",
            "           H       0.72      0.93      0.81        30\n",
            "           I       0.83      0.33      0.48        30\n",
            "           J       0.73      0.80      0.76        30\n",
            "           K       0.40      0.33      0.36        30\n",
            "           L       0.57      0.77      0.66        30\n",
            "           M       0.16      0.47      0.24        30\n",
            "           N       0.16      0.33      0.22        30\n",
            "           O       0.56      0.47      0.51        30\n",
            "           P       0.48      0.67      0.56        30\n",
            "           Q       0.47      0.47      0.47        30\n",
            "           R       0.84      0.53      0.65        30\n",
            "           S       0.00      0.00      0.00        30\n",
            "           T       0.38      0.30      0.33        30\n",
            "           U       0.65      0.57      0.61        30\n",
            "           V       0.77      0.33      0.47        30\n",
            "           W       0.52      0.80      0.63        30\n",
            "           X       0.47      0.30      0.37        30\n",
            "           Y       0.43      0.87      0.57        30\n",
            "           Z       0.58      1.00      0.73        30\n",
            "         del       0.53      0.67      0.59        30\n",
            "     nothing       0.50      0.63      0.56        30\n",
            "       space       0.57      0.43      0.49        30\n",
            "\n",
            "    accuracy                           0.48       870\n",
            "   macro avg       0.50      0.48      0.46       870\n",
            "weighted avg       0.50      0.48      0.46       870\n",
            "\n"
          ],
          "name": "stdout"
        },
        {
          "output_type": "stream",
          "text": [
            "/usr/local/lib/python3.6/dist-packages/sklearn/metrics/_classification.py:1272: UndefinedMetricWarning: Precision and F-score are ill-defined and being set to 0.0 in labels with no predicted samples. Use `zero_division` parameter to control this behavior.\n",
            "  _warn_prf(average, modifier, msg_start, len(result))\n"
          ],
          "name": "stderr"
        }
      ]
    },
    {
      "cell_type": "code",
      "metadata": {
        "id": "C58zd7TxAVvh",
        "colab_type": "code",
        "outputId": "03b05ed5-facc-45c1-b3ac-c5d1b6f78404",
        "colab": {
          "base_uri": "https://localhost:8080/",
          "height": 1000
        }
      },
      "source": [
        "def plot_confusion_matrix(cm, classes,\n",
        "                      normalize=False,\n",
        "                      title='Confusion matrix',\n",
        "                      cmap=plt.cm.Blues):\n",
        "    '''\n",
        "    Plot a confusion matrix heatmap using matplotlib. This code was obtained from\n",
        "    the scikit-learn documentation:\n",
        "\n",
        "    http://scikit-learn.org/stable/auto_examples/model_selection/plot_confusion_matrix.html\n",
        "    '''\n",
        "    if normalize:\n",
        "        cm = cm.astype('float') / cm.sum(axis=1)[:, np.newaxis]\n",
        "        print(\"Normalized confusion matrix\")\n",
        "    else:\n",
        "        print('Confusion matrix, without normalization')\n",
        "\n",
        "    plt.imshow(cm, interpolation='nearest', cmap=cmap)\n",
        "    plt.title(title)\n",
        "    plt.colorbar()\n",
        "    tick_marks = np.arange(len(classes))\n",
        "    plt.xticks(tick_marks, classes, rotation=45)\n",
        "    plt.yticks(tick_marks, classes)\n",
        "\n",
        "    fmt = '.2f' if normalize else 'd'\n",
        "    thresh = cm.max() / 2.\n",
        "    for i, j in itertools.product(range(cm.shape[0]), range(cm.shape[1])):\n",
        "        plt.text(j, i, format(cm[i, j], fmt),\n",
        "                 horizontalalignment=\"center\",\n",
        "                 color=\"white\" if cm[i, j] > thresh else \"black\")\n",
        "\n",
        "    plt.tight_layout()\n",
        "    plt.ylabel('True label')\n",
        "    plt.xlabel('Predicted label')\n",
        "    return\n",
        "\n",
        "def plot_confusion_matrix_with_default_options(y_pred, y_true, classes):\n",
        "    '''Plot a confusion matrix heatmap with a default size and default options.'''\n",
        "    cm = confusion_matrix(y_true, y_pred)\n",
        "    with sns.axes_style('ticks'):\n",
        "        plt.figure(figsize=(16, 16))\n",
        "        plot_confusion_matrix(cm, classes)\n",
        "        plt.show()\n",
        "    return\n",
        "\n",
        "with sns.axes_style('ticks'):\n",
        "    plot_confusion_matrix_with_default_options(**predDict, classes=classnames)"
      ],
      "execution_count": 12,
      "outputs": [
        {
          "output_type": "stream",
          "text": [
            "Confusion matrix, without normalization\n"
          ],
          "name": "stdout"
        },
        {
          "output_type": "display_data",
          "data": {
            "image/png": "[encoded data removed]",
            "text/plain": [
              "<Figure size 1152x1152 with 2 Axes>"
            ]
          },
          "metadata": {
            "tags": []
          }
        }
      ]
    }
  ]
}